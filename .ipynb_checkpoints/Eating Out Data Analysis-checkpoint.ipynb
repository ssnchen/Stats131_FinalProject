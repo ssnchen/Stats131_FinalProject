{
 "cells": [
  {
   "cell_type": "code",
   "execution_count": 2,
   "metadata": {},
   "outputs": [],
   "source": [
    "import numpy as np\n",
    "import pandas as pd\n",
    "import warnings\n",
    "warnings.filterwarnings(\"ignore\")\n",
    "\n",
    "import seaborn as sns\n",
    "import matplotlib.pyplot as plt\n",
    "from scipy import stats\n",
    "\n",
    "import statsmodels.api as sm\n",
    "from statsmodels.formula.api import ols"
   ]
  },
  {
   "cell_type": "code",
   "execution_count": 3,
   "metadata": {},
   "outputs": [],
   "source": [
    "df2 = pd.read_csv('food_coded.csv')\n",
    "df2 = df2[['GPA', 'Gender' , 'calories_chicken', 'turkey_calories', 'income', 'employment', 'father_education', 'mother_education', 'grade_level', 'eating_out', 'on_off_campus', 'cook', 'exercise', 'drink','breakfast', 'parents_cook', 'pay_meal_out', 'nutritional_check']]"
   ]
  },
  {
   "cell_type": "code",
   "execution_count": 4,
   "metadata": {},
   "outputs": [],
   "source": [
    "# making variable of the % correct. we could not find the other actual calorie counts of others\n",
    "df2['calories_chicken_prop'] = df2['calories_chicken']/720\n",
    "df2['calories_turkey_prop'] = df2['turkey_calories']/690"
   ]
  },
  {
   "cell_type": "code",
   "execution_count": 5,
   "metadata": {},
   "outputs": [],
   "source": [
    "# Clean GPA \n",
    "df2['GPA'] = df2['GPA'].str[:3]\n",
    "df2['GPA'].replace(['Per','Unk'], None, inplace=True)\n",
    "df2['GPA'].value_counts()\n",
    "df2['GPA'] = df2['GPA'].astype(float)"
   ]
  },
  {
   "cell_type": "code",
   "execution_count": 6,
   "metadata": {},
   "outputs": [],
   "source": [
    "# Gender, calories_chicken, turkey_calories, income, employment, father_education, mother_education, on_off_campus, are clean "
   ]
  },
  {
   "cell_type": "markdown",
   "metadata": {},
   "source": [
    "## What type of students are more likely to eat out? \n",
    "Frequency of eating out vs:\n",
    "- income\n",
    "- job status (employed/not employed) \n",
    "- living situation (on-off campus) \n",
    "- parents cook\n",
    "- grade \n",
    "- willingness to pay for a meal out \n",
    "- nutritional check\n",
    "- exercising"
   ]
  },
  {
   "cell_type": "code",
   "execution_count": 7,
   "metadata": {},
   "outputs": [
    {
     "data": {
      "text/plain": [
       "eating_out           1.000000\n",
       "employment           0.170919\n",
       "parents_cook         0.152110\n",
       "grade_level          0.072972\n",
       "on_off_campus        0.043086\n",
       "income               0.001340\n",
       "nutritional_check   -0.039017\n",
       "GPA                 -0.047309\n",
       "pay_meal_out        -0.085503\n",
       "exercise            -0.095447\n",
       "Name: eating_out, dtype: float64"
      ]
     },
     "execution_count": 7,
     "metadata": {},
     "output_type": "execute_result"
    }
   ],
   "source": [
    "corr_columns = df2[['GPA','income','employment','exercise', 'on_off_campus', 'parents_cook', 'grade_level', 'pay_meal_out','nutritional_check', 'eating_out']]\n",
    "corr_columns.corr()['eating_out'].sort_values(ascending=False)"
   ]
  },
  {
   "cell_type": "markdown",
   "metadata": {},
   "source": [
    "Based off of these correlations, we would choose to investigate employment, parents_cook, grade_level, on_off_campus, and income. We will also investigate nutritional_check and pay_meal_out because we would assume that these factors would impact someone's willingness to and frequency of eating out."
   ]
  },
  {
   "cell_type": "code",
   "execution_count": 8,
   "metadata": {},
   "outputs": [],
   "source": [
    "def eatout_groupby_plot(variable, title, xlabel, xticks, labels, rot='horizontal'):\n",
    "    d = df2.groupby([variable, 'eating_out']).count().unstack()['GPA']\n",
    "    d.columns= ['Never', '1-2 times', '2-3 times', '3-5 times', 'Everyday' ]\n",
    "    d.plot.bar()\n",
    "    plt.title(title)\n",
    "    plt.xlabel(xlabel)\n",
    "    plt.xticks(xticks, labels, rotation = rot)\n",
    "    plt.legend(loc='upper right', bbox_to_anchor=(1.3, 1))"
   ]
  },
  {
   "cell_type": "code",
   "execution_count": 9,
   "metadata": {},
   "outputs": [],
   "source": [
    "def check_anova_assumptions(results, variable):\n",
    "    #normality\n",
    "    print(\"normality:\",stats.shapiro(results.resid))\n",
    "    \n",
    "    # homogenity of var\n",
    "    print(\"variance homogeneity:\",stats.levene(df2['eating_out'][df2[variable] == 1],\n",
    "             df2['eating_out'][df2[variable] == 2],\n",
    "             df2['eating_out'][df2[variable] == 3],\n",
    "             df2['eating_out'][df2[variable] == 4]))\n",
    "    "
   ]
  },
  {
   "cell_type": "code",
   "execution_count": 20,
   "metadata": {},
   "outputs": [],
   "source": [
    "def plotting(plot, title, xlabel, ylabel):\n",
    "    plot.plot.bar()\n",
    "    plt.title(title)\n",
    "    plt.xlabel(xlabel)\n",
    "    plt.ylabel(ylabel)"
   ]
  },
  {
   "cell_type": "markdown",
   "metadata": {},
   "source": [
    "#### Employment vs. Eating Out"
   ]
  },
  {
   "cell_type": "code",
   "execution_count": 9,
   "metadata": {},
   "outputs": [
    {
     "data": {
      "image/png": "[encoded data removed]",
      "text/plain": [
       "<Figure size 432x288 with 1 Axes>"
      ]
     },
     "metadata": {
      "needs_background": "light"
     },
     "output_type": "display_data"
    }
   ],
   "source": [
    "eatout_groupby_plot('employment', 'Employment vs Eating Out', 'Employment', [0,1,2], labels = ['full time', 'part time', 'unemployed'])"
   ]
  },
  {
   "cell_type": "code",
   "execution_count": 21,
   "metadata": {},
   "outputs": [
    {
     "data": {
      "image/png": "[encoded data removed]",
      "text/plain": [
       "<Figure size 432x288 with 1 Axes>"
      ]
     },
     "metadata": {
      "needs_background": "light"
     },
     "output_type": "display_data"
    }
   ],
   "source": [
    "plotting(df2.groupby('employment').mean()['eating_out'], 'Employment vs. Eating Out', 'employment', 'Eating Out (mean)')"
   ]
  },
  {
   "cell_type": "code",
   "execution_count": 10,
   "metadata": {},
   "outputs": [
    {
     "name": "stdout",
     "output_type": "stream",
     "text": [
      "normality: (0.916803777217865, 2.238413571831188e-06)\n",
      "variance homogeneity: LeveneResult(statistic=1.97670035988227, pvalue=0.14328666498617645)\n"
     ]
    },
    {
     "data": {
      "text/html": [
       "<div>\n",
       "<style scoped>\n",
       "    .dataframe tbody tr th:only-of-type {\n",
       "        vertical-align: middle;\n",
       "    }\n",
       "\n",
       "    .dataframe tbody tr th {\n",
       "        vertical-align: top;\n",
       "    }\n",
       "\n",
       "    .dataframe thead th {\n",
       "        text-align: right;\n",
       "    }\n",
       "</style>\n",
       "<table border=\"1\" class=\"dataframe\">\n",
       "  <thead>\n",
       "    <tr style=\"text-align: right;\">\n",
       "      <th></th>\n",
       "      <th>df</th>\n",
       "      <th>sum_sq</th>\n",
       "      <th>mean_sq</th>\n",
       "      <th>F</th>\n",
       "      <th>PR(&gt;F)</th>\n",
       "    </tr>\n",
       "  </thead>\n",
       "  <tbody>\n",
       "    <tr>\n",
       "      <th>C(employment)</th>\n",
       "      <td>2.0</td>\n",
       "      <td>4.230779</td>\n",
       "      <td>2.115390</td>\n",
       "      <td>1.700695</td>\n",
       "      <td>0.187196</td>\n",
       "    </tr>\n",
       "    <tr>\n",
       "      <th>Residual</th>\n",
       "      <td>113.0</td>\n",
       "      <td>140.553704</td>\n",
       "      <td>1.243838</td>\n",
       "      <td>NaN</td>\n",
       "      <td>NaN</td>\n",
       "    </tr>\n",
       "  </tbody>\n",
       "</table>\n",
       "</div>"
      ],
      "text/plain": [
       "                  df      sum_sq   mean_sq         F    PR(>F)\n",
       "C(employment)    2.0    4.230779  2.115390  1.700695  0.187196\n",
       "Residual       113.0  140.553704  1.243838       NaN       NaN"
      ]
     },
     "execution_count": 10,
     "metadata": {},
     "output_type": "execute_result"
    }
   ],
   "source": [
    "x = df2[['eating_out', 'employment']].dropna()\n",
    "\n",
    "results = ols('eating_out ~ C(employment)', data=x).fit()\n",
    "\n",
    "#normality\n",
    "print(\"normality:\",stats.shapiro(results.resid))\n",
    "    \n",
    "# homogenity of var\n",
    "print(\"variance homogeneity:\",stats.levene(x['eating_out'][x['employment'] == 1],\n",
    "             x['eating_out'][x['employment']== 2],\n",
    "             x['eating_out'][x['employment'] == 3]))\n",
    "\n",
    "sm.stats.anova_lm(results)"
   ]
  },
  {
   "cell_type": "markdown",
   "metadata": {},
   "source": [
    "#### Parents Cooking vs. Eating Out "
   ]
  },
  {
   "cell_type": "code",
   "execution_count": 11,
   "metadata": {
    "scrolled": true
   },
   "outputs": [
    {
     "data": {
      "image/png": "[encoded data removed]",
      "text/plain": [
       "<Figure size 432x288 with 1 Axes>"
      ]
     },
     "metadata": {
      "needs_background": "light"
     },
     "output_type": "display_data"
    }
   ],
   "source": [
    "eatout_groupby_plot('parents_cook', 'Parents Cooking vs. Eating Out', 'Parents Cooking', [0,1,2,3], ['almost everyday', '2-3 times/week', '1-2 times/week', 'never'])"
   ]
  },
  {
   "cell_type": "code",
   "execution_count": 22,
   "metadata": {},
   "outputs": [
    {
     "data": {
      "image/png": "[encoded data removed]",
      "text/plain": [
       "<Figure size 432x288 with 1 Axes>"
      ]
     },
     "metadata": {
      "needs_background": "light"
     },
     "output_type": "display_data"
    }
   ],
   "source": [
    "plotting(df2.groupby('parents_cook').mean()['eating_out'], 'Parents Cooking vs. Eating Out', 'Parents Cook', 'Eating Out (mean)')"
   ]
  },
  {
   "cell_type": "code",
   "execution_count": 12,
   "metadata": {},
   "outputs": [
    {
     "name": "stdout",
     "output_type": "stream",
     "text": [
      "normality: (0.9133484363555908, 6.50685933578643e-07)\n",
      "variance homogeneity: LeveneResult(statistic=2.5821217533341407, pvalue=0.056558094937685925)\n"
     ]
    },
    {
     "data": {
      "text/html": [
       "<div>\n",
       "<style scoped>\n",
       "    .dataframe tbody tr th:only-of-type {\n",
       "        vertical-align: middle;\n",
       "    }\n",
       "\n",
       "    .dataframe tbody tr th {\n",
       "        vertical-align: top;\n",
       "    }\n",
       "\n",
       "    .dataframe thead th {\n",
       "        text-align: right;\n",
       "    }\n",
       "</style>\n",
       "<table border=\"1\" class=\"dataframe\">\n",
       "  <thead>\n",
       "    <tr style=\"text-align: right;\">\n",
       "      <th></th>\n",
       "      <th>df</th>\n",
       "      <th>sum_sq</th>\n",
       "      <th>mean_sq</th>\n",
       "      <th>F</th>\n",
       "      <th>PR(&gt;F)</th>\n",
       "    </tr>\n",
       "  </thead>\n",
       "  <tbody>\n",
       "    <tr>\n",
       "      <th>C(parents_cook)</th>\n",
       "      <td>3.0</td>\n",
       "      <td>5.938547</td>\n",
       "      <td>1.979516</td>\n",
       "      <td>1.546682</td>\n",
       "      <td>0.205959</td>\n",
       "    </tr>\n",
       "    <tr>\n",
       "      <th>Residual</th>\n",
       "      <td>121.0</td>\n",
       "      <td>154.861453</td>\n",
       "      <td>1.279847</td>\n",
       "      <td>NaN</td>\n",
       "      <td>NaN</td>\n",
       "    </tr>\n",
       "  </tbody>\n",
       "</table>\n",
       "</div>"
      ],
      "text/plain": [
       "                    df      sum_sq   mean_sq         F    PR(>F)\n",
       "C(parents_cook)    3.0    5.938547  1.979516  1.546682  0.205959\n",
       "Residual         121.0  154.861453  1.279847       NaN       NaN"
      ]
     },
     "execution_count": 12,
     "metadata": {},
     "output_type": "execute_result"
    }
   ],
   "source": [
    "x = df2[['eating_out', 'parents_cook']].dropna()\n",
    "\n",
    "results = ols('eating_out ~ C(parents_cook)', data=x).fit()\n",
    "\n",
    "#normality\n",
    "print(\"normality:\",stats.shapiro(results.resid))\n",
    "    \n",
    "# homogenity of var\n",
    "print(\"variance homogeneity:\",stats.levene(x['eating_out'][x['parents_cook'] == 1],\n",
    "             x['eating_out'][x['parents_cook']== 2],\n",
    "             x['eating_out'][x['parents_cook'] == 3],\n",
    "             x['eating_out'][x['parents_cook'] == 5]))\n",
    "\n",
    "sm.stats.anova_lm(results)"
   ]
  },
  {
   "cell_type": "markdown",
   "metadata": {},
   "source": [
    "#### Grade vs. Eating_Out"
   ]
  },
  {
   "cell_type": "code",
   "execution_count": 13,
   "metadata": {
    "scrolled": true
   },
   "outputs": [
    {
     "data": {
      "image/png": "[encoded data removed]",
      "text/plain": [
       "<Figure size 432x288 with 1 Axes>"
      ]
     },
     "metadata": {
      "needs_background": "light"
     },
     "output_type": "display_data"
    }
   ],
   "source": [
    "eatout_groupby_plot('grade_level', 'Grade vs. Eating Out', 'Grade', [0,1,2,3], ['freshman','sophomore', 'junior', 'senior' ])"
   ]
  },
  {
   "cell_type": "code",
   "execution_count": 23,
   "metadata": {},
   "outputs": [
    {
     "data": {
      "image/png": "[encoded data removed]",
      "text/plain": [
       "<Figure size 432x288 with 1 Axes>"
      ]
     },
     "metadata": {
      "needs_background": "light"
     },
     "output_type": "display_data"
    }
   ],
   "source": [
    "plotting(df2.groupby('grade_level').mean()['eating_out'], 'Grade Level vs. Eating Out', 'Grade Level', 'Eating Out (mean)')"
   ]
  },
  {
   "cell_type": "code",
   "execution_count": 14,
   "metadata": {},
   "outputs": [
    {
     "name": "stdout",
     "output_type": "stream",
     "text": [
      "normality: (0.8931469917297363, 5.479141407249699e-08)\n",
      "variance homogeneity: LeveneResult(statistic=0.07917511485286827, pvalue=0.9711869044260056)\n"
     ]
    },
    {
     "data": {
      "text/html": [
       "<div>\n",
       "<style scoped>\n",
       "    .dataframe tbody tr th:only-of-type {\n",
       "        vertical-align: middle;\n",
       "    }\n",
       "\n",
       "    .dataframe tbody tr th {\n",
       "        vertical-align: top;\n",
       "    }\n",
       "\n",
       "    .dataframe thead th {\n",
       "        text-align: right;\n",
       "    }\n",
       "</style>\n",
       "<table border=\"1\" class=\"dataframe\">\n",
       "  <thead>\n",
       "    <tr style=\"text-align: right;\">\n",
       "      <th></th>\n",
       "      <th>df</th>\n",
       "      <th>sum_sq</th>\n",
       "      <th>mean_sq</th>\n",
       "      <th>F</th>\n",
       "      <th>PR(&gt;F)</th>\n",
       "    </tr>\n",
       "  </thead>\n",
       "  <tbody>\n",
       "    <tr>\n",
       "      <th>C(grade_level)</th>\n",
       "      <td>3.0</td>\n",
       "      <td>2.717954</td>\n",
       "      <td>0.905985</td>\n",
       "      <td>0.693464</td>\n",
       "      <td>0.557763</td>\n",
       "    </tr>\n",
       "    <tr>\n",
       "      <th>Residual</th>\n",
       "      <td>121.0</td>\n",
       "      <td>158.082046</td>\n",
       "      <td>1.306463</td>\n",
       "      <td>NaN</td>\n",
       "      <td>NaN</td>\n",
       "    </tr>\n",
       "  </tbody>\n",
       "</table>\n",
       "</div>"
      ],
      "text/plain": [
       "                   df      sum_sq   mean_sq         F    PR(>F)\n",
       "C(grade_level)    3.0    2.717954  0.905985  0.693464  0.557763\n",
       "Residual        121.0  158.082046  1.306463       NaN       NaN"
      ]
     },
     "execution_count": 14,
     "metadata": {},
     "output_type": "execute_result"
    }
   ],
   "source": [
    "results = ols('eating_out ~ C(grade_level)', data=df2).fit()\n",
    "\n",
    "check_anova_assumptions(results,'grade_level')\n",
    "\n",
    "sm.stats.anova_lm(results)"
   ]
  },
  {
   "cell_type": "markdown",
   "metadata": {},
   "source": [
    "#### Living Situation vs. Eating Out"
   ]
  },
  {
   "cell_type": "code",
   "execution_count": 15,
   "metadata": {
    "scrolled": true
   },
   "outputs": [
    {
     "data": {
      "image/png": "[encoded data removed]",
      "text/plain": [
       "<Figure size 432x288 with 1 Axes>"
      ]
     },
     "metadata": {
      "needs_background": "light"
     },
     "output_type": "display_data"
    }
   ],
   "source": [
    "eatout_groupby_plot('on_off_campus', 'Living Situation vs. Eating Out', 'Living Situation', [0,1,2,3], ['on campus', 'rent', 'commute', 'own house'])"
   ]
  },
  {
   "cell_type": "code",
   "execution_count": 24,
   "metadata": {},
   "outputs": [
    {
     "data": {
      "image/png": "[encoded data removed]",
      "text/plain": [
       "<Figure size 432x288 with 1 Axes>"
      ]
     },
     "metadata": {
      "needs_background": "light"
     },
     "output_type": "display_data"
    }
   ],
   "source": [
    "plotting(df2.groupby('on_off_campus').mean()['eating_out'], 'Living Situation vs. Eating Out', 'Living Situation', 'Eating Out (mean)')"
   ]
  },
  {
   "cell_type": "code",
   "execution_count": 16,
   "metadata": {},
   "outputs": [
    {
     "name": "stdout",
     "output_type": "stream",
     "text": [
      "normality: (0.865799605846405, 3.238321166776359e-09)\n",
      "variance homogeneity: LeveneResult(statistic=0.8484733356980394, pvalue=0.4700299945410211)\n"
     ]
    },
    {
     "data": {
      "text/html": [
       "<div>\n",
       "<style scoped>\n",
       "    .dataframe tbody tr th:only-of-type {\n",
       "        vertical-align: middle;\n",
       "    }\n",
       "\n",
       "    .dataframe tbody tr th {\n",
       "        vertical-align: top;\n",
       "    }\n",
       "\n",
       "    .dataframe thead th {\n",
       "        text-align: right;\n",
       "    }\n",
       "</style>\n",
       "<table border=\"1\" class=\"dataframe\">\n",
       "  <thead>\n",
       "    <tr style=\"text-align: right;\">\n",
       "      <th></th>\n",
       "      <th>df</th>\n",
       "      <th>sum_sq</th>\n",
       "      <th>mean_sq</th>\n",
       "      <th>F</th>\n",
       "      <th>PR(&gt;F)</th>\n",
       "    </tr>\n",
       "  </thead>\n",
       "  <tbody>\n",
       "    <tr>\n",
       "      <th>C(on_off_campus)</th>\n",
       "      <td>3.0</td>\n",
       "      <td>1.936408</td>\n",
       "      <td>0.645469</td>\n",
       "      <td>0.495212</td>\n",
       "      <td>0.686283</td>\n",
       "    </tr>\n",
       "    <tr>\n",
       "      <th>Residual</th>\n",
       "      <td>120.0</td>\n",
       "      <td>156.410367</td>\n",
       "      <td>1.303420</td>\n",
       "      <td>NaN</td>\n",
       "      <td>NaN</td>\n",
       "    </tr>\n",
       "  </tbody>\n",
       "</table>\n",
       "</div>"
      ],
      "text/plain": [
       "                     df      sum_sq   mean_sq         F    PR(>F)\n",
       "C(on_off_campus)    3.0    1.936408  0.645469  0.495212  0.686283\n",
       "Residual          120.0  156.410367  1.303420       NaN       NaN"
      ]
     },
     "execution_count": 16,
     "metadata": {},
     "output_type": "execute_result"
    }
   ],
   "source": [
    "results = ols('eating_out ~ C(on_off_campus)', data=df2).fit()\n",
    "\n",
    "check_anova_assumptions(results,'on_off_campus')\n",
    "\n",
    "sm.stats.anova_lm(results)"
   ]
  },
  {
   "cell_type": "markdown",
   "metadata": {},
   "source": [
    "#### Income vs. Eating Out "
   ]
  },
  {
   "cell_type": "code",
   "execution_count": 17,
   "metadata": {},
   "outputs": [
    {
     "data": {
      "image/png": "[encoded data removed]",
      "text/plain": [
       "<Figure size 432x288 with 1 Axes>"
      ]
     },
     "metadata": {
      "needs_background": "light"
     },
     "output_type": "display_data"
    }
   ],
   "source": [
    "eatout_groupby_plot('income', 'Income vs. Eating Out', 'Income ($)', [0,1,2,3,4,5], ['<15,000', '15001-30000', '30001-50000','50001-70000','700001-100000', '100000+'], '20')"
   ]
  },
  {
   "cell_type": "code",
   "execution_count": 25,
   "metadata": {},
   "outputs": [
    {
     "data": {
      "image/png": "[encoded data removed]",
      "text/plain": [
       "<Figure size 432x288 with 1 Axes>"
      ]
     },
     "metadata": {
      "needs_background": "light"
     },
     "output_type": "display_data"
    }
   ],
   "source": [
    "plotting(df2.groupby('income').mean()['eating_out'], 'Income vs. Eating Out', 'Income', 'Eating Out (mean)')"
   ]
  },
  {
   "cell_type": "code",
   "execution_count": 18,
   "metadata": {},
   "outputs": [
    {
     "name": "stdout",
     "output_type": "stream",
     "text": [
      "normality: (0.8873062133789062, 3.116862146157473e-08)\n",
      "variance homogeneity: LeveneResult(statistic=0.6360125975379654, pvalue=0.6726308389940154)\n"
     ]
    },
    {
     "data": {
      "text/html": [
       "<div>\n",
       "<style scoped>\n",
       "    .dataframe tbody tr th:only-of-type {\n",
       "        vertical-align: middle;\n",
       "    }\n",
       "\n",
       "    .dataframe tbody tr th {\n",
       "        vertical-align: top;\n",
       "    }\n",
       "\n",
       "    .dataframe thead th {\n",
       "        text-align: right;\n",
       "    }\n",
       "</style>\n",
       "<table border=\"1\" class=\"dataframe\">\n",
       "  <thead>\n",
       "    <tr style=\"text-align: right;\">\n",
       "      <th></th>\n",
       "      <th>df</th>\n",
       "      <th>sum_sq</th>\n",
       "      <th>mean_sq</th>\n",
       "      <th>F</th>\n",
       "      <th>PR(&gt;F)</th>\n",
       "    </tr>\n",
       "  </thead>\n",
       "  <tbody>\n",
       "    <tr>\n",
       "      <th>C(income)</th>\n",
       "      <td>5.0</td>\n",
       "      <td>1.244438</td>\n",
       "      <td>0.248888</td>\n",
       "      <td>0.184291</td>\n",
       "      <td>0.968051</td>\n",
       "    </tr>\n",
       "    <tr>\n",
       "      <th>Residual</th>\n",
       "      <td>118.0</td>\n",
       "      <td>159.360401</td>\n",
       "      <td>1.350512</td>\n",
       "      <td>NaN</td>\n",
       "      <td>NaN</td>\n",
       "    </tr>\n",
       "  </tbody>\n",
       "</table>\n",
       "</div>"
      ],
      "text/plain": [
       "              df      sum_sq   mean_sq         F    PR(>F)\n",
       "C(income)    5.0    1.244438  0.248888  0.184291  0.968051\n",
       "Residual   118.0  159.360401  1.350512       NaN       NaN"
      ]
     },
     "execution_count": 18,
     "metadata": {},
     "output_type": "execute_result"
    }
   ],
   "source": [
    "results = ols('eating_out ~ C(income)', data=df2).fit()\n",
    "\n",
    "#normality\n",
    "print(\"normality:\",stats.shapiro(results.resid))\n",
    "    \n",
    "# homogenity of var\n",
    "print(\"variance homogeneity:\",stats.levene(df2['eating_out'][df2['income'] == 1],\n",
    "             df2['eating_out'][df2['income'] == 2],\n",
    "             df2['eating_out'][df2['income'] == 3],\n",
    "             df2['eating_out'][df2['income'] == 4],\n",
    "             df2['eating_out'][df2['income'] == 5],\n",
    "             df2['eating_out'][df2['income'] == 6]))\n",
    "\n",
    "sm.stats.anova_lm(results)"
   ]
  },
  {
   "cell_type": "markdown",
   "metadata": {},
   "source": [
    "#### Nutritional Fact Checking vs. Eating Out "
   ]
  },
  {
   "cell_type": "code",
   "execution_count": 24,
   "metadata": {
    "scrolled": true
   },
   "outputs": [
    {
     "data": {
      "image/png": "[encoded data removed]",
      "text/plain": [
       "<Figure size 432x288 with 1 Axes>"
      ]
     },
     "metadata": {
      "needs_background": "light"
     },
     "output_type": "display_data"
    }
   ],
   "source": [
    "eatout_groupby_plot('nutritional_check', 'Nutritional Fact Checking vs. Eating Out', 'Nutritional Fact Checking', [0,1,2,3,4], ['never', 'on certain products', 'very rarely', 'on most products', 'on everything'], '20')"
   ]
  },
  {
   "cell_type": "code",
   "execution_count": 26,
   "metadata": {},
   "outputs": [
    {
     "data": {
      "image/png": "[encoded data removed]",
      "text/plain": [
       "<Figure size 432x288 with 1 Axes>"
      ]
     },
     "metadata": {
      "needs_background": "light"
     },
     "output_type": "display_data"
    }
   ],
   "source": [
    "plotting(df2.groupby('nutritional_check').mean()['eating_out'], 'Nutritional Checking vs. Eating Out', 'Nutritional Check', 'Eating Out (mean)')"
   ]
  },
  {
   "cell_type": "code",
   "execution_count": 20,
   "metadata": {},
   "outputs": [
    {
     "name": "stdout",
     "output_type": "stream",
     "text": [
      "normality: (0.8899130821228027, 3.786490765378403e-08)\n",
      "variance homogeneity: LeveneResult(statistic=0.642244031711097, pvalue=0.6334053224285505)\n"
     ]
    },
    {
     "data": {
      "text/html": [
       "<div>\n",
       "<style scoped>\n",
       "    .dataframe tbody tr th:only-of-type {\n",
       "        vertical-align: middle;\n",
       "    }\n",
       "\n",
       "    .dataframe tbody tr th {\n",
       "        vertical-align: top;\n",
       "    }\n",
       "\n",
       "    .dataframe thead th {\n",
       "        text-align: right;\n",
       "    }\n",
       "</style>\n",
       "<table border=\"1\" class=\"dataframe\">\n",
       "  <thead>\n",
       "    <tr style=\"text-align: right;\">\n",
       "      <th></th>\n",
       "      <th>df</th>\n",
       "      <th>sum_sq</th>\n",
       "      <th>mean_sq</th>\n",
       "      <th>F</th>\n",
       "      <th>PR(&gt;F)</th>\n",
       "    </tr>\n",
       "  </thead>\n",
       "  <tbody>\n",
       "    <tr>\n",
       "      <th>C(nutritional_check)</th>\n",
       "      <td>4.0</td>\n",
       "      <td>1.780103</td>\n",
       "      <td>0.445026</td>\n",
       "      <td>0.335827</td>\n",
       "      <td>0.853366</td>\n",
       "    </tr>\n",
       "    <tr>\n",
       "      <th>Residual</th>\n",
       "      <td>120.0</td>\n",
       "      <td>159.019897</td>\n",
       "      <td>1.325166</td>\n",
       "      <td>NaN</td>\n",
       "      <td>NaN</td>\n",
       "    </tr>\n",
       "  </tbody>\n",
       "</table>\n",
       "</div>"
      ],
      "text/plain": [
       "                         df      sum_sq   mean_sq         F    PR(>F)\n",
       "C(nutritional_check)    4.0    1.780103  0.445026  0.335827  0.853366\n",
       "Residual              120.0  159.019897  1.325166       NaN       NaN"
      ]
     },
     "execution_count": 20,
     "metadata": {},
     "output_type": "execute_result"
    }
   ],
   "source": [
    "results = ols('eating_out ~ C(nutritional_check)', data=df2).fit()\n",
    "\n",
    "#normality\n",
    "print(\"normality:\",stats.shapiro(results.resid))\n",
    "    \n",
    "# homogenity of var\n",
    "print(\"variance homogeneity:\",stats.levene(df2['eating_out'][df2['nutritional_check'] == 1],\n",
    "             df2['eating_out'][df2['nutritional_check'] == 2],\n",
    "             df2['eating_out'][df2['nutritional_check'] == 3],\n",
    "             df2['eating_out'][df2['nutritional_check'] == 4],\n",
    "             df2['eating_out'][df2['nutritional_check'] == 5]))\n",
    "\n",
    "sm.stats.anova_lm(results)"
   ]
  },
  {
   "cell_type": "markdown",
   "metadata": {},
   "source": [
    "#### Willingness to Pay vs. Eating Out"
   ]
  },
  {
   "cell_type": "code",
   "execution_count": 21,
   "metadata": {
    "scrolled": true
   },
   "outputs": [
    {
     "data": {
      "image/png": "[encoded data removed]",
      "text/plain": [
       "<Figure size 432x288 with 1 Axes>"
      ]
     },
     "metadata": {
      "needs_background": "light"
     },
     "output_type": "display_data"
    }
   ],
   "source": [
    "eatout_groupby_plot('pay_meal_out', 'Willingness to Pay vs. Eating Out', 'Willingness to Pay ($)', [0,1,2,3,4], ['5-10', '10-20', '20-30', '30-40', '40+'])"
   ]
  },
  {
   "cell_type": "code",
   "execution_count": 27,
   "metadata": {},
   "outputs": [
    {
     "data": {
      "image/png": "[encoded data removed]",
      "text/plain": [
       "<Figure size 432x288 with 1 Axes>"
      ]
     },
     "metadata": {
      "needs_background": "light"
     },
     "output_type": "display_data"
    }
   ],
   "source": [
    "plotting(df2.groupby('pay_meal_out').mean()['eating_out'], 'Willingness to Pay vs. Eating Out', '$ Willing to Pay', 'Eating Out (mean)')"
   ]
  },
  {
   "cell_type": "code",
   "execution_count": 22,
   "metadata": {},
   "outputs": [
    {
     "name": "stdout",
     "output_type": "stream",
     "text": [
      "normality: (0.9138274192810059, 6.926768492121482e-07)\n",
      "variance homogeneity: LeveneResult(statistic=0.4649730891080192, pvalue=0.7613192818308849)\n"
     ]
    },
    {
     "data": {
      "text/html": [
       "<div>\n",
       "<style scoped>\n",
       "    .dataframe tbody tr th:only-of-type {\n",
       "        vertical-align: middle;\n",
       "    }\n",
       "\n",
       "    .dataframe tbody tr th {\n",
       "        vertical-align: top;\n",
       "    }\n",
       "\n",
       "    .dataframe thead th {\n",
       "        text-align: right;\n",
       "    }\n",
       "</style>\n",
       "<table border=\"1\" class=\"dataframe\">\n",
       "  <thead>\n",
       "    <tr style=\"text-align: right;\">\n",
       "      <th></th>\n",
       "      <th>df</th>\n",
       "      <th>sum_sq</th>\n",
       "      <th>mean_sq</th>\n",
       "      <th>F</th>\n",
       "      <th>PR(&gt;F)</th>\n",
       "    </tr>\n",
       "  </thead>\n",
       "  <tbody>\n",
       "    <tr>\n",
       "      <th>C(pay_meal_out)</th>\n",
       "      <td>4.0</td>\n",
       "      <td>8.724385</td>\n",
       "      <td>2.181096</td>\n",
       "      <td>1.721062</td>\n",
       "      <td>0.149744</td>\n",
       "    </tr>\n",
       "    <tr>\n",
       "      <th>Residual</th>\n",
       "      <td>120.0</td>\n",
       "      <td>152.075615</td>\n",
       "      <td>1.267297</td>\n",
       "      <td>NaN</td>\n",
       "      <td>NaN</td>\n",
       "    </tr>\n",
       "  </tbody>\n",
       "</table>\n",
       "</div>"
      ],
      "text/plain": [
       "                    df      sum_sq   mean_sq         F    PR(>F)\n",
       "C(pay_meal_out)    4.0    8.724385  2.181096  1.721062  0.149744\n",
       "Residual         120.0  152.075615  1.267297       NaN       NaN"
      ]
     },
     "execution_count": 22,
     "metadata": {},
     "output_type": "execute_result"
    }
   ],
   "source": [
    "x = df2[['eating_out', 'pay_meal_out']].dropna()\n",
    "results = ols('eating_out ~ C(pay_meal_out)', data=x).fit()\n",
    "\n",
    "#normality\n",
    "print(\"normality:\",stats.shapiro(results.resid))\n",
    "    \n",
    "# homogenity of var\n",
    "print(\"variance homogeneity:\",stats.levene(x['eating_out'][x['pay_meal_out'] == 2],\n",
    "             x['eating_out'][x['pay_meal_out'] == 3],\n",
    "             x['eating_out'][x['pay_meal_out'] == 4],\n",
    "             x['eating_out'][x['pay_meal_out'] == 5],\n",
    "             x['eating_out'][x['pay_meal_out'] == 6],))\n",
    "\n",
    "sm.stats.anova_lm(results)"
   ]
  }
 ],
 "metadata": {
  "kernelspec": {
   "display_name": "Python 3",
   "language": "python",
   "name": "python3"
  },
  "language_info": {
   "codemirror_mode": {
    "name": "ipython",
    "version": 3
   },
   "file_extension": ".py",
   "mimetype": "text/x-python",
   "name": "python",
   "nbconvert_exporter": "python",
   "pygments_lexer": "ipython3",
   "version": "3.7.2"
  }
 },
 "nbformat": 4,
 "nbformat_minor": 2
}
