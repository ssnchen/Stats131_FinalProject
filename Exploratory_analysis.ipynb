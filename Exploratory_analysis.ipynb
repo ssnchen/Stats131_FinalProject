{
 "cells": [
  {
   "cell_type": "markdown",
   "metadata": {},
   "source": [
    "### Exploratory Analysis"
   ]
  },
  {
   "cell_type": "code",
   "execution_count": 1,
   "metadata": {},
   "outputs": [],
   "source": [
    "import numpy as np\n",
    "import pandas as pd\n",
    "import warnings\n",
    "warnings.filterwarnings(\"ignore\")\n",
    "\n",
    "import seaborn as sns\n",
    "import matplotlib.pyplot as plt\n",
    "from scipy import stats\n",
    "\n",
    "import statsmodels.api as sm\n",
    "from statsmodels.formula.api import ols"
   ]
  },
  {
   "cell_type": "code",
   "execution_count": 41,
   "metadata": {},
   "outputs": [],
   "source": [
    "food = pd.read_csv('food_coded.csv')"
   ]
  },
  {
   "cell_type": "code",
   "execution_count": 42,
   "metadata": {},
   "outputs": [],
   "source": [
    "df2 = food[['GPA', 'Gender' , 'calories_chicken', 'turkey_calories', 'income', 'employment', 'father_education', 'mother_education', 'grade_level', 'eating_out', 'on_off_campus', 'weight', 'cook','cuisine', 'exercise', 'drink','breakfast', 'parents_cook', 'nutritional_check']]"
   ]
  },
  {
   "cell_type": "code",
   "execution_count": 43,
   "metadata": {},
   "outputs": [],
   "source": [
    "# making variable of the % correct. we could not find the other actual calorie counts of others\n",
    "df2['calories_chicken_prop'] = df2['calories_chicken']/720\n",
    "df2['calories_turkey_prop'] = df2['turkey_calories']/690"
   ]
  },
  {
   "cell_type": "code",
   "execution_count": 44,
   "metadata": {},
   "outputs": [],
   "source": [
    "# Cleaning GPA, making bins\n",
    "df2['GPA'] = df2['GPA'].str[:3]\n",
    "df2['GPA'].replace(['Per','Unk'], None, inplace=True)\n",
    "df2['GPA'].value_counts()\n",
    "df2['GPA'] = df2['GPA'].astype(float)"
   ]
  },
  {
   "cell_type": "code",
   "execution_count": 6,
   "metadata": {},
   "outputs": [],
   "source": [
    "def plotting(plot, title, xlabel, ylabel,legend):\n",
    "    plot.plot()\n",
    "    plt.title(title)\n",
    "    plt.xlabel(xlabel)\n",
    "    plt.ylabel(ylabel)\n",
    "    plt.legend(legend)"
   ]
  },
  {
   "cell_type": "code",
   "execution_count": 7,
   "metadata": {},
   "outputs": [],
   "source": [
    "def check_anova_assumptions(results, variable):\n",
    "    #normality\n",
    "    print(\"normality:\",stats.shapiro(results.resid))\n",
    "    \n",
    "    # homogenity of var\n",
    "    print(\"variance homogeneity:\",stats.levene(df2['calories_chicken_prop'][df2[variable] == 1],\n",
    "             df2['calories_chicken_prop'][df2[variable] == 2],\n",
    "             df2['calories_chicken_prop'][df2[variable] == 3],\n",
    "             df2['calories_chicken_prop'][df2[variable] == 4],\n",
    "             df2['calories_chicken_prop'][df2[variable] == 5]))\n",
    "    "
   ]
  },
  {
   "cell_type": "markdown",
   "metadata": {},
   "source": [
    "## What type of students make better guesses for food calories? \n",
    "Guessing proportion of chicken & turkey vs:\n",
    "- GPA\n",
    "- family education\n",
    "- income\n",
    "- cook \n",
    "- living situation \n",
    "- eating out\n",
    "- exercising\n"
   ]
  },
  {
   "cell_type": "code",
   "execution_count": 8,
   "metadata": {},
   "outputs": [
    {
     "data": {
      "text/plain": [
       "calories_chicken_prop    1.000000\n",
       "calories_turkey_prop     0.397642\n",
       "income                   0.144076\n",
       "GPA                      0.140987\n",
       "grade_level              0.113915\n",
       "eating_out               0.024428\n",
       "father_education         0.008014\n",
       "cook                    -0.040738\n",
       "employment              -0.057861\n",
       "mother_education        -0.064962\n",
       "exercise                -0.106730\n",
       "Name: calories_chicken_prop, dtype: float64"
      ]
     },
     "execution_count": 8,
     "metadata": {},
     "output_type": "execute_result"
    }
   ],
   "source": [
    "corr_columns = df2[['GPA','income','employment','father_education', 'mother_education', 'grade_level', 'eating_out','cook', 'exercise','calories_chicken_prop','calories_turkey_prop']]\n",
    "corr_columns.corr()['calories_chicken_prop'].sort_values(ascending=False)"
   ]
  },
  {
   "cell_type": "code",
   "execution_count": 9,
   "metadata": {},
   "outputs": [
    {
     "data": {
      "text/plain": [
       "4.0    46\n",
       "2.0    30\n",
       "5.0    23\n",
       "3.0    18\n",
       "1.0     5\n",
       "Name: mother_education, dtype: int64"
      ]
     },
     "execution_count": 9,
     "metadata": {},
     "output_type": "execute_result"
    }
   ],
   "source": [
    "df2['mother_education'].value_counts()"
   ]
  },
  {
   "cell_type": "code",
   "execution_count": 10,
   "metadata": {
    "scrolled": true
   },
   "outputs": [
    {
     "data": {
      "text/plain": [
       "calories_turkey_prop     1.000000\n",
       "calories_chicken_prop    0.397642\n",
       "GPA                      0.237495\n",
       "income                   0.133007\n",
       "grade_level              0.127848\n",
       "eating_out               0.090734\n",
       "father_education         0.049771\n",
       "employment               0.020998\n",
       "cook                     0.020644\n",
       "mother_education         0.007524\n",
       "exercise                -0.025442\n",
       "Name: calories_turkey_prop, dtype: float64"
      ]
     },
     "execution_count": 10,
     "metadata": {},
     "output_type": "execute_result"
    }
   ],
   "source": [
    "corr_columns.corr()['calories_turkey_prop'].sort_values(ascending=False)"
   ]
  },
  {
   "cell_type": "markdown",
   "metadata": {},
   "source": [
    "Based off these correlations, I will choose to investigate GPA, income, grade_level, eating_out, exercise, and mother_education. I will also investigate cooking habits because I would assume that this type of behavior would influence someones ability to guess calories."
   ]
  },
  {
   "cell_type": "code",
   "execution_count": 11,
   "metadata": {},
   "outputs": [
    {
     "data": {
      "text/plain": [
       "<matplotlib.axes._subplots.AxesSubplot at 0x1cb76883470>"
      ]
     },
     "execution_count": 11,
     "metadata": {},
     "output_type": "execute_result"
    },
    {
     "data": {
      "image/png": "[encoded data removed]",
      "text/plain": [
       "<Figure size 432x288 with 1 Axes>"
      ]
     },
     "metadata": {
      "needs_background": "light"
     },
     "output_type": "display_data"
    }
   ],
   "source": [
    "# GPA \n",
    "sns.distplot(df2['GPA'].dropna())"
   ]
  },
  {
   "cell_type": "markdown",
   "metadata": {},
   "source": [
    "#### GPA vs. Calorie Guessing\n",
    "Plotting GPA vs average proportion guesses. We chose mean because all the values have same ranges of proportions."
   ]
  },
  {
   "cell_type": "code",
   "execution_count": 12,
   "metadata": {
    "scrolled": true
   },
   "outputs": [
    {
     "data": {
      "image/png": "[encoded data removed]",
      "text/plain": [
       "<Figure size 432x288 with 1 Axes>"
      ]
     },
     "metadata": {
      "needs_background": "light"
     },
     "output_type": "display_data"
    }
   ],
   "source": [
    "plotting(df2.groupby('GPA').mean()['calories_chicken_prop'], 'GPA vs. Calorie Guessing', 'GPA', 'Average Correct Guess %', ['Chicken','Turkey'])\n",
    "plotting(df2.groupby('GPA').mean()['calories_turkey_prop'], 'GPA vs. Calorie Guessing', 'GPA', 'Average Correct Guess %', ['Chicken','Turkey'])"
   ]
  },
  {
   "cell_type": "markdown",
   "metadata": {},
   "source": [
    "The plot seems to indicate that students with better academic performance (GPA), are better at guessing calories for the chicken and turkey meals. We'll investigate further with models."
   ]
  },
  {
   "cell_type": "code",
   "execution_count": 13,
   "metadata": {},
   "outputs": [
    {
     "name": "stdout",
     "output_type": "stream",
     "text": [
      "normality: (0.8829671144485474, 2.138726884481912e-08)\n",
      "variance homogeneity: LeveneResult(statistic=0.923962768854422, pvalue=0.4524733092297064)\n"
     ]
    },
    {
     "data": {
      "text/html": [
       "<div>\n",
       "<style scoped>\n",
       "    .dataframe tbody tr th:only-of-type {\n",
       "        vertical-align: middle;\n",
       "    }\n",
       "\n",
       "    .dataframe tbody tr th {\n",
       "        vertical-align: top;\n",
       "    }\n",
       "\n",
       "    .dataframe thead th {\n",
       "        text-align: right;\n",
       "    }\n",
       "</style>\n",
       "<table border=\"1\" class=\"dataframe\">\n",
       "  <thead>\n",
       "    <tr style=\"text-align: right;\">\n",
       "      <th></th>\n",
       "      <th>df</th>\n",
       "      <th>sum_sq</th>\n",
       "      <th>mean_sq</th>\n",
       "      <th>F</th>\n",
       "      <th>PR(&gt;F)</th>\n",
       "    </tr>\n",
       "  </thead>\n",
       "  <tbody>\n",
       "    <tr>\n",
       "      <th>GPA</th>\n",
       "      <td>1.0</td>\n",
       "      <td>0.080984</td>\n",
       "      <td>0.080984</td>\n",
       "      <td>2.453948</td>\n",
       "      <td>0.119841</td>\n",
       "    </tr>\n",
       "    <tr>\n",
       "      <th>Residual</th>\n",
       "      <td>121.0</td>\n",
       "      <td>3.993185</td>\n",
       "      <td>0.033002</td>\n",
       "      <td>NaN</td>\n",
       "      <td>NaN</td>\n",
       "    </tr>\n",
       "  </tbody>\n",
       "</table>\n",
       "</div>"
      ],
      "text/plain": [
       "             df    sum_sq   mean_sq         F    PR(>F)\n",
       "GPA         1.0  0.080984  0.080984  2.453948  0.119841\n",
       "Residual  121.0  3.993185  0.033002       NaN       NaN"
      ]
     },
     "execution_count": 13,
     "metadata": {},
     "output_type": "execute_result"
    }
   ],
   "source": [
    "results = ols('calories_chicken_prop ~ GPA', data=df2).fit()\n",
    "\n",
    "check_anova_assumptions(results,'eating_out')\n",
    "\n",
    "sm.stats.anova_lm(results)"
   ]
  },
  {
   "cell_type": "code",
   "execution_count": 14,
   "metadata": {},
   "outputs": [
    {
     "name": "stdout",
     "output_type": "stream",
     "text": [
      "normality: (0.9637536406517029, 0.002189408987760544)\n",
      "variance homogeneity: LeveneResult(statistic=0.923962768854422, pvalue=0.4524733092297064)\n"
     ]
    },
    {
     "data": {
      "text/html": [
       "<div>\n",
       "<style scoped>\n",
       "    .dataframe tbody tr th:only-of-type {\n",
       "        vertical-align: middle;\n",
       "    }\n",
       "\n",
       "    .dataframe tbody tr th {\n",
       "        vertical-align: top;\n",
       "    }\n",
       "\n",
       "    .dataframe thead th {\n",
       "        text-align: right;\n",
       "    }\n",
       "</style>\n",
       "<table border=\"1\" class=\"dataframe\">\n",
       "  <thead>\n",
       "    <tr style=\"text-align: right;\">\n",
       "      <th></th>\n",
       "      <th>df</th>\n",
       "      <th>sum_sq</th>\n",
       "      <th>mean_sq</th>\n",
       "      <th>F</th>\n",
       "      <th>PR(&gt;F)</th>\n",
       "    </tr>\n",
       "  </thead>\n",
       "  <tbody>\n",
       "    <tr>\n",
       "      <th>GPA</th>\n",
       "      <td>1.0</td>\n",
       "      <td>0.33541</td>\n",
       "      <td>0.335410</td>\n",
       "      <td>7.232845</td>\n",
       "      <td>0.008169</td>\n",
       "    </tr>\n",
       "    <tr>\n",
       "      <th>Residual</th>\n",
       "      <td>121.0</td>\n",
       "      <td>5.61115</td>\n",
       "      <td>0.046373</td>\n",
       "      <td>NaN</td>\n",
       "      <td>NaN</td>\n",
       "    </tr>\n",
       "  </tbody>\n",
       "</table>\n",
       "</div>"
      ],
      "text/plain": [
       "             df   sum_sq   mean_sq         F    PR(>F)\n",
       "GPA         1.0  0.33541  0.335410  7.232845  0.008169\n",
       "Residual  121.0  5.61115  0.046373       NaN       NaN"
      ]
     },
     "execution_count": 14,
     "metadata": {},
     "output_type": "execute_result"
    }
   ],
   "source": [
    "results = ols('calories_turkey_prop ~ GPA', data=df2).fit()\n",
    "\n",
    "check_anova_assumptions(results,'eating_out')\n",
    "\n",
    "sm.stats.anova_lm(results)"
   ]
  },
  {
   "cell_type": "markdown",
   "metadata": {},
   "source": [
    "Normality and variance homogeneity assumptions hold for both chicken and turkey proportions with GPA. Interestingly, proportion of correctness of chicken calorie content was an insignificant predictor, while the turkey calorie guess was found to be significant with a p-value of 0.008169. There is evidence to suggest that increasing academic performance is tied to stronger calorie guesses for the turkey meal."
   ]
  },
  {
   "cell_type": "markdown",
   "metadata": {},
   "source": [
    "#### Income vs. Calorie Guessing Proportions"
   ]
  },
  {
   "cell_type": "code",
   "execution_count": 15,
   "metadata": {},
   "outputs": [
    {
     "data": {
      "image/png": "[encoded data removed]",
      "text/plain": [
       "<Figure size 432x288 with 1 Axes>"
      ]
     },
     "metadata": {
      "needs_background": "light"
     },
     "output_type": "display_data"
    }
   ],
   "source": [
    "plotting(df2.groupby('income').mean()['calories_chicken_prop'], 'Income vs. Calorie Guessing', 'Income', 'Average Correct Guess %', ['Chicken','Turkey'])\n",
    "plotting(df2.groupby('income').mean()['calories_turkey_prop'], 'Income vs. Calorie Guessing', 'Income', 'Average Correct Guess %', ['Chicken','Turkey'])"
   ]
  },
  {
   "cell_type": "code",
   "execution_count": 16,
   "metadata": {},
   "outputs": [
    {
     "name": "stdout",
     "output_type": "stream",
     "text": [
      "Checking equal var: 2.113990328340599\n"
     ]
    },
    {
     "data": {
      "text/plain": [
       "Ttest_indResult(statistic=-1.257217522415206, pvalue=0.2576270030160973)"
      ]
     },
     "execution_count": 16,
     "metadata": {},
     "output_type": "execute_result"
    }
   ],
   "source": [
    "print('Checking equal var:',df2[df2['income'] == 1]['calories_chicken_prop'].var()/df2[df2['income'] == 6]['calories_chicken_prop'].var())\n",
    "\n",
    "income1 = df2[df2['income'] == 1]['calories_chicken_prop']\n",
    "income6 = df2[df2['income'] == 6]['calories_chicken_prop']\n",
    "\n",
    "stats.ttest_ind(income1,income6, equal_var = False)"
   ]
  },
  {
   "cell_type": "code",
   "execution_count": 17,
   "metadata": {},
   "outputs": [
    {
     "name": "stdout",
     "output_type": "stream",
     "text": [
      "normality: (0.8977726697921753, 1.0335728006793943e-07)\n",
      "variance homogeneity: LeveneResult(statistic=0.923962768854422, pvalue=0.4524733092297064)\n"
     ]
    },
    {
     "data": {
      "text/html": [
       "<div>\n",
       "<style scoped>\n",
       "    .dataframe tbody tr th:only-of-type {\n",
       "        vertical-align: middle;\n",
       "    }\n",
       "\n",
       "    .dataframe tbody tr th {\n",
       "        vertical-align: top;\n",
       "    }\n",
       "\n",
       "    .dataframe thead th {\n",
       "        text-align: right;\n",
       "    }\n",
       "</style>\n",
       "<table border=\"1\" class=\"dataframe\">\n",
       "  <thead>\n",
       "    <tr style=\"text-align: right;\">\n",
       "      <th></th>\n",
       "      <th>df</th>\n",
       "      <th>sum_sq</th>\n",
       "      <th>mean_sq</th>\n",
       "      <th>F</th>\n",
       "      <th>PR(&gt;F)</th>\n",
       "    </tr>\n",
       "  </thead>\n",
       "  <tbody>\n",
       "    <tr>\n",
       "      <th>C(income)</th>\n",
       "      <td>5.0</td>\n",
       "      <td>0.145661</td>\n",
       "      <td>0.029132</td>\n",
       "      <td>0.865774</td>\n",
       "      <td>0.506393</td>\n",
       "    </tr>\n",
       "    <tr>\n",
       "      <th>Residual</th>\n",
       "      <td>118.0</td>\n",
       "      <td>3.970563</td>\n",
       "      <td>0.033649</td>\n",
       "      <td>NaN</td>\n",
       "      <td>NaN</td>\n",
       "    </tr>\n",
       "  </tbody>\n",
       "</table>\n",
       "</div>"
      ],
      "text/plain": [
       "              df    sum_sq   mean_sq         F    PR(>F)\n",
       "C(income)    5.0  0.145661  0.029132  0.865774  0.506393\n",
       "Residual   118.0  3.970563  0.033649       NaN       NaN"
      ]
     },
     "execution_count": 17,
     "metadata": {},
     "output_type": "execute_result"
    }
   ],
   "source": [
    "results = ols('calories_chicken_prop ~ C(income)', data=df2).fit()\n",
    "check_anova_assumptions(results,'eating_out')\n",
    "sm.stats.anova_lm(results)"
   ]
  },
  {
   "cell_type": "code",
   "execution_count": 18,
   "metadata": {},
   "outputs": [
    {
     "name": "stdout",
     "output_type": "stream",
     "text": [
      "normality: (0.948286235332489, 0.00012428525951690972)\n",
      "variance homogeneity: LeveneResult(statistic=0.923962768854422, pvalue=0.4524733092297064)\n"
     ]
    },
    {
     "data": {
      "text/html": [
       "<div>\n",
       "<style scoped>\n",
       "    .dataframe tbody tr th:only-of-type {\n",
       "        vertical-align: middle;\n",
       "    }\n",
       "\n",
       "    .dataframe tbody tr th {\n",
       "        vertical-align: top;\n",
       "    }\n",
       "\n",
       "    .dataframe thead th {\n",
       "        text-align: right;\n",
       "    }\n",
       "</style>\n",
       "<table border=\"1\" class=\"dataframe\">\n",
       "  <thead>\n",
       "    <tr style=\"text-align: right;\">\n",
       "      <th></th>\n",
       "      <th>df</th>\n",
       "      <th>sum_sq</th>\n",
       "      <th>mean_sq</th>\n",
       "      <th>F</th>\n",
       "      <th>PR(&gt;F)</th>\n",
       "    </tr>\n",
       "  </thead>\n",
       "  <tbody>\n",
       "    <tr>\n",
       "      <th>C(income)</th>\n",
       "      <td>5.0</td>\n",
       "      <td>0.452624</td>\n",
       "      <td>0.090525</td>\n",
       "      <td>1.911669</td>\n",
       "      <td>0.097448</td>\n",
       "    </tr>\n",
       "    <tr>\n",
       "      <th>Residual</th>\n",
       "      <td>118.0</td>\n",
       "      <td>5.587748</td>\n",
       "      <td>0.047354</td>\n",
       "      <td>NaN</td>\n",
       "      <td>NaN</td>\n",
       "    </tr>\n",
       "  </tbody>\n",
       "</table>\n",
       "</div>"
      ],
      "text/plain": [
       "              df    sum_sq   mean_sq         F    PR(>F)\n",
       "C(income)    5.0  0.452624  0.090525  1.911669  0.097448\n",
       "Residual   118.0  5.587748  0.047354       NaN       NaN"
      ]
     },
     "execution_count": 18,
     "metadata": {},
     "output_type": "execute_result"
    }
   ],
   "source": [
    "results = ols('calories_turkey_prop ~ C(income)', data=df2).fit()\n",
    "check_anova_assumptions(results,'eating_out')\n",
    "sm.stats.anova_lm(results)"
   ]
  },
  {
   "cell_type": "markdown",
   "metadata": {},
   "source": [
    "From the plot, it looks like generally, as income increases, people are better at guessing calories. However, after performing a t-test to check if there's a significant difference between the guessing abilities at income = 1 vs. income = 6, we found that there is no significant difference. The anova tables corraborate this finding, demonstrating that income is an insignificant predictor for the proportion of correct guesses. Therefore, we cannot conclude that higher income leads to a student's better guessing ability."
   ]
  },
  {
   "cell_type": "markdown",
   "metadata": {},
   "source": [
    "#### Family Education vs. Calorie Guessing Proportions\n",
    "father_education, mother_education"
   ]
  },
  {
   "cell_type": "code",
   "execution_count": 19,
   "metadata": {
    "scrolled": false
   },
   "outputs": [
    {
     "data": {
      "text/plain": [
       "<matplotlib.axes._subplots.AxesSubplot at 0x1cb771e1cf8>"
      ]
     },
     "execution_count": 19,
     "metadata": {},
     "output_type": "execute_result"
    },
    {
     "data": {
      "image/png": "[encoded data removed]",
      "text/plain": [
       "<Figure size 432x288 with 1 Axes>"
      ]
     },
     "metadata": {
      "needs_background": "light"
     },
     "output_type": "display_data"
    }
   ],
   "source": [
    "sns.distplot(df2['father_education'].dropna())"
   ]
  },
  {
   "cell_type": "code",
   "execution_count": 20,
   "metadata": {},
   "outputs": [
    {
     "data": {
      "text/plain": [
       "<matplotlib.axes._subplots.AxesSubplot at 0x1cb77683240>"
      ]
     },
     "execution_count": 20,
     "metadata": {},
     "output_type": "execute_result"
    },
    {
     "data": {
      "image/png": "[encoded data removed]",
      "text/plain": [
       "<Figure size 432x288 with 1 Axes>"
      ]
     },
     "metadata": {
      "needs_background": "light"
     },
     "output_type": "display_data"
    }
   ],
   "source": [
    "sns.distplot(df2['mother_education'].dropna())"
   ]
  },
  {
   "cell_type": "code",
   "execution_count": 21,
   "metadata": {
    "scrolled": true
   },
   "outputs": [
    {
     "data": {
      "image/png": "[encoded data removed]",
      "text/plain": [
       "<Figure size 432x288 with 1 Axes>"
      ]
     },
     "metadata": {
      "needs_background": "light"
     },
     "output_type": "display_data"
    }
   ],
   "source": [
    "plotting(df2.groupby('father_education').mean()['calories_chicken_prop'], 'Father Education vs. Calorie Guessing', 'Father Education', 'Average Correct Guess %', ['Chicken','Turkey'])\n",
    "plotting(df2.groupby('father_education').mean()['calories_turkey_prop'], 'Father Education vs. Calorie Guessing', 'Father Education', 'Average Correct Guess %', ['Chicken','Turkey'])"
   ]
  },
  {
   "cell_type": "code",
   "execution_count": 22,
   "metadata": {},
   "outputs": [
    {
     "name": "stdout",
     "output_type": "stream",
     "text": [
      "normality: (0.9068706631660461, 3.1141584599936323e-07)\n",
      "variance homogeneity: LeveneResult(statistic=2.2425494393239345, pvalue=0.06848862695740304)\n"
     ]
    },
    {
     "data": {
      "text/html": [
       "<div>\n",
       "<style scoped>\n",
       "    .dataframe tbody tr th:only-of-type {\n",
       "        vertical-align: middle;\n",
       "    }\n",
       "\n",
       "    .dataframe tbody tr th {\n",
       "        vertical-align: top;\n",
       "    }\n",
       "\n",
       "    .dataframe thead th {\n",
       "        text-align: right;\n",
       "    }\n",
       "</style>\n",
       "<table border=\"1\" class=\"dataframe\">\n",
       "  <thead>\n",
       "    <tr style=\"text-align: right;\">\n",
       "      <th></th>\n",
       "      <th>df</th>\n",
       "      <th>sum_sq</th>\n",
       "      <th>mean_sq</th>\n",
       "      <th>F</th>\n",
       "      <th>PR(&gt;F)</th>\n",
       "    </tr>\n",
       "  </thead>\n",
       "  <tbody>\n",
       "    <tr>\n",
       "      <th>C(father_education)</th>\n",
       "      <td>4.0</td>\n",
       "      <td>0.292123</td>\n",
       "      <td>0.073031</td>\n",
       "      <td>2.2726</td>\n",
       "      <td>0.065418</td>\n",
       "    </tr>\n",
       "    <tr>\n",
       "      <th>Residual</th>\n",
       "      <td>119.0</td>\n",
       "      <td>3.824101</td>\n",
       "      <td>0.032135</td>\n",
       "      <td>NaN</td>\n",
       "      <td>NaN</td>\n",
       "    </tr>\n",
       "  </tbody>\n",
       "</table>\n",
       "</div>"
      ],
      "text/plain": [
       "                        df    sum_sq   mean_sq       F    PR(>F)\n",
       "C(father_education)    4.0  0.292123  0.073031  2.2726  0.065418\n",
       "Residual             119.0  3.824101  0.032135     NaN       NaN"
      ]
     },
     "execution_count": 22,
     "metadata": {},
     "output_type": "execute_result"
    }
   ],
   "source": [
    "results = ols('calories_chicken_prop ~ C(father_education)', data=df2).fit()\n",
    "\n",
    "check_anova_assumptions(results,'father_education')\n",
    "\n",
    "sm.stats.anova_lm(results)"
   ]
  },
  {
   "cell_type": "code",
   "execution_count": 23,
   "metadata": {
    "scrolled": true
   },
   "outputs": [
    {
     "data": {
      "image/png": "[encoded data removed]",
      "text/plain": [
       "<Figure size 432x288 with 1 Axes>"
      ]
     },
     "metadata": {
      "needs_background": "light"
     },
     "output_type": "display_data"
    }
   ],
   "source": [
    "plotting(df2.groupby('mother_education').mean()['calories_chicken_prop'], 'Mother Education vs. Calorie Guessing', 'Mother Education', 'Average Correct Guess %', ['Chicken','Turkey'])\n",
    "plotting(df2.groupby('mother_education').mean()['calories_turkey_prop'], 'Mother Education vs. Calorie Guessing', 'Mother Education', 'Average Correct Guess %', ['Chicken','Turkey'])"
   ]
  },
  {
   "cell_type": "code",
   "execution_count": 24,
   "metadata": {},
   "outputs": [
    {
     "name": "stdout",
     "output_type": "stream",
     "text": [
      "normality: (0.884896457195282, 2.9166976389660704e-08)\n",
      "variance homogeneity: LeveneResult(statistic=0.3202693301750488, pvalue=0.8639240280617266)\n"
     ]
    },
    {
     "data": {
      "text/html": [
       "<div>\n",
       "<style scoped>\n",
       "    .dataframe tbody tr th:only-of-type {\n",
       "        vertical-align: middle;\n",
       "    }\n",
       "\n",
       "    .dataframe tbody tr th {\n",
       "        vertical-align: top;\n",
       "    }\n",
       "\n",
       "    .dataframe thead th {\n",
       "        text-align: right;\n",
       "    }\n",
       "</style>\n",
       "<table border=\"1\" class=\"dataframe\">\n",
       "  <thead>\n",
       "    <tr style=\"text-align: right;\">\n",
       "      <th></th>\n",
       "      <th>df</th>\n",
       "      <th>sum_sq</th>\n",
       "      <th>mean_sq</th>\n",
       "      <th>F</th>\n",
       "      <th>PR(&gt;F)</th>\n",
       "    </tr>\n",
       "  </thead>\n",
       "  <tbody>\n",
       "    <tr>\n",
       "      <th>C(mother_education)</th>\n",
       "      <td>4.0</td>\n",
       "      <td>0.197286</td>\n",
       "      <td>0.049321</td>\n",
       "      <td>1.503227</td>\n",
       "      <td>0.205726</td>\n",
       "    </tr>\n",
       "    <tr>\n",
       "      <th>Residual</th>\n",
       "      <td>117.0</td>\n",
       "      <td>3.838816</td>\n",
       "      <td>0.032810</td>\n",
       "      <td>NaN</td>\n",
       "      <td>NaN</td>\n",
       "    </tr>\n",
       "  </tbody>\n",
       "</table>\n",
       "</div>"
      ],
      "text/plain": [
       "                        df    sum_sq   mean_sq         F    PR(>F)\n",
       "C(mother_education)    4.0  0.197286  0.049321  1.503227  0.205726\n",
       "Residual             117.0  3.838816  0.032810       NaN       NaN"
      ]
     },
     "execution_count": 24,
     "metadata": {},
     "output_type": "execute_result"
    }
   ],
   "source": [
    "results = ols('calories_chicken_prop ~ C(mother_education)', data=df2).fit()\n",
    "\n",
    "check_anova_assumptions(results,'mother_education')\n",
    "\n",
    "sm.stats.anova_lm(results)"
   ]
  },
  {
   "cell_type": "markdown",
   "metadata": {},
   "source": [
    "From these plots, it appears that parental education has an impact on the students ability to correctly guess calories in the chicken & turkey categories. However, after running an ANOVA test on both father and mother education, we conclude that there is actually no statistically significant difference between the mean calories_chicken_prop for different levels of education."
   ]
  },
  {
   "cell_type": "markdown",
   "metadata": {},
   "source": [
    "#### Cooking Habits vs. Calorie Guessing"
   ]
  },
  {
   "cell_type": "code",
   "execution_count": 25,
   "metadata": {
    "scrolled": true
   },
   "outputs": [
    {
     "data": {
      "image/png": "[encoded data removed]",
      "text/plain": [
       "<Figure size 432x288 with 1 Axes>"
      ]
     },
     "metadata": {
      "needs_background": "light"
     },
     "output_type": "display_data"
    }
   ],
   "source": [
    "plotting(df2.groupby('cook').mean()['calories_chicken_prop'], 'Cooking Habits vs. Calorie Guessing', 'Cooking Habits', 'Average Correct Guess %', ['Chicken','Turkey'])\n",
    "plotting(df2.groupby('cook').mean()['calories_turkey_prop'],  'Cooking Habits vs. Calorie Guessing', 'Cooking Habits', 'Average Correct Guess %', ['Chicken','Turkey'])"
   ]
  },
  {
   "cell_type": "code",
   "execution_count": 26,
   "metadata": {},
   "outputs": [
    {
     "name": "stdout",
     "output_type": "stream",
     "text": [
      "normality: (0.8851174712181091, 2.9878933105464967e-08)\n",
      "variance homogeneity: LeveneResult(statistic=0.7189415219707149, pvalue=0.5806444965156123)\n"
     ]
    },
    {
     "data": {
      "text/html": [
       "<div>\n",
       "<style scoped>\n",
       "    .dataframe tbody tr th:only-of-type {\n",
       "        vertical-align: middle;\n",
       "    }\n",
       "\n",
       "    .dataframe tbody tr th {\n",
       "        vertical-align: top;\n",
       "    }\n",
       "\n",
       "    .dataframe thead th {\n",
       "        text-align: right;\n",
       "    }\n",
       "</style>\n",
       "<table border=\"1\" class=\"dataframe\">\n",
       "  <thead>\n",
       "    <tr style=\"text-align: right;\">\n",
       "      <th></th>\n",
       "      <th>df</th>\n",
       "      <th>sum_sq</th>\n",
       "      <th>mean_sq</th>\n",
       "      <th>F</th>\n",
       "      <th>PR(&gt;F)</th>\n",
       "    </tr>\n",
       "  </thead>\n",
       "  <tbody>\n",
       "    <tr>\n",
       "      <th>C(cook)</th>\n",
       "      <td>4.0</td>\n",
       "      <td>0.201764</td>\n",
       "      <td>0.050441</td>\n",
       "      <td>1.618804</td>\n",
       "      <td>0.174107</td>\n",
       "    </tr>\n",
       "    <tr>\n",
       "      <th>Residual</th>\n",
       "      <td>117.0</td>\n",
       "      <td>3.645650</td>\n",
       "      <td>0.031159</td>\n",
       "      <td>NaN</td>\n",
       "      <td>NaN</td>\n",
       "    </tr>\n",
       "  </tbody>\n",
       "</table>\n",
       "</div>"
      ],
      "text/plain": [
       "             df    sum_sq   mean_sq         F    PR(>F)\n",
       "C(cook)     4.0  0.201764  0.050441  1.618804  0.174107\n",
       "Residual  117.0  3.645650  0.031159       NaN       NaN"
      ]
     },
     "execution_count": 26,
     "metadata": {},
     "output_type": "execute_result"
    }
   ],
   "source": [
    "results = ols('calories_chicken_prop ~ C(cook)', data=df2).fit()\n",
    "\n",
    "check_anova_assumptions(results,'cook')\n",
    "\n",
    "sm.stats.anova_lm(results)"
   ]
  },
  {
   "cell_type": "markdown",
   "metadata": {},
   "source": [
    "From this plot and ANOVA, we can conclude that the frequency of cooking does not really help in their calorie guessings for chicken or turkey."
   ]
  },
  {
   "cell_type": "markdown",
   "metadata": {},
   "source": [
    "#### Living Situation vs. Calorie Guessing"
   ]
  },
  {
   "cell_type": "code",
   "execution_count": 27,
   "metadata": {
    "scrolled": false
   },
   "outputs": [
    {
     "data": {
      "text/plain": [
       "Text(0, 0.5, 'Average Correct Guess %')"
      ]
     },
     "execution_count": 27,
     "metadata": {},
     "output_type": "execute_result"
    },
    {
     "data": {
      "image/png": "[encoded data removed]",
      "text/plain": [
       "<Figure size 432x288 with 1 Axes>"
      ]
     },
     "metadata": {
      "needs_background": "light"
     },
     "output_type": "display_data"
    }
   ],
   "source": [
    "pd.merge(pd.DataFrame(df2.groupby('on_off_campus').mean()['calories_chicken_prop']),pd.DataFrame(df2.groupby('on_off_campus').mean()['calories_turkey_prop']), how='outer', on=['on_off_campus']).plot.bar()\n",
    "plt.legend(loc='upper center', bbox_to_anchor=(1.25, 1))\n",
    "plt.title('Living Situation vs. Calorie Guessing')\n",
    "plt.ylabel('Average Correct Guess %')"
   ]
  },
  {
   "cell_type": "code",
   "execution_count": 28,
   "metadata": {},
   "outputs": [
    {
     "name": "stdout",
     "output_type": "stream",
     "text": [
      "normality: (0.8608649969100952, 1.9902040016006595e-09)\n",
      "variance homogeneity: LeveneResult(statistic=0.7140163242379298, pvalue=0.545474525964267)\n"
     ]
    },
    {
     "data": {
      "text/html": [
       "<div>\n",
       "<style scoped>\n",
       "    .dataframe tbody tr th:only-of-type {\n",
       "        vertical-align: middle;\n",
       "    }\n",
       "\n",
       "    .dataframe tbody tr th {\n",
       "        vertical-align: top;\n",
       "    }\n",
       "\n",
       "    .dataframe thead th {\n",
       "        text-align: right;\n",
       "    }\n",
       "</style>\n",
       "<table border=\"1\" class=\"dataframe\">\n",
       "  <thead>\n",
       "    <tr style=\"text-align: right;\">\n",
       "      <th></th>\n",
       "      <th>df</th>\n",
       "      <th>sum_sq</th>\n",
       "      <th>mean_sq</th>\n",
       "      <th>F</th>\n",
       "      <th>PR(&gt;F)</th>\n",
       "    </tr>\n",
       "  </thead>\n",
       "  <tbody>\n",
       "    <tr>\n",
       "      <th>C(on_off_campus)</th>\n",
       "      <td>3.0</td>\n",
       "      <td>0.109842</td>\n",
       "      <td>0.036614</td>\n",
       "      <td>1.10777</td>\n",
       "      <td>0.348799</td>\n",
       "    </tr>\n",
       "    <tr>\n",
       "      <th>Residual</th>\n",
       "      <td>120.0</td>\n",
       "      <td>3.966255</td>\n",
       "      <td>0.033052</td>\n",
       "      <td>NaN</td>\n",
       "      <td>NaN</td>\n",
       "    </tr>\n",
       "  </tbody>\n",
       "</table>\n",
       "</div>"
      ],
      "text/plain": [
       "                     df    sum_sq   mean_sq        F    PR(>F)\n",
       "C(on_off_campus)    3.0  0.109842  0.036614  1.10777  0.348799\n",
       "Residual          120.0  3.966255  0.033052      NaN       NaN"
      ]
     },
     "execution_count": 28,
     "metadata": {},
     "output_type": "execute_result"
    }
   ],
   "source": [
    "results = ols('calories_chicken_prop ~ C(on_off_campus)', data=df2).fit()\n",
    "\n",
    "#normality\n",
    "print(\"normality:\",stats.shapiro(results.resid))\n",
    "    \n",
    "# homogenity of var\n",
    "print(\"variance homogeneity:\",stats.levene(df2['calories_chicken_prop'][df2['on_off_campus'] == 1],\n",
    "             df2['calories_chicken_prop'][df2['on_off_campus'] == 2],\n",
    "             df2['calories_chicken_prop'][df2['on_off_campus'] == 3],\n",
    "             df2['calories_chicken_prop'][df2['on_off_campus'] == 4]))\n",
    "\n",
    "sm.stats.anova_lm(results)"
   ]
  },
  {
   "cell_type": "markdown",
   "metadata": {},
   "source": [
    "From looking at the plot above, and from the ANOVA test, we conclude that living on or off campus does that affect how well a student makes caloric guesses."
   ]
  },
  {
   "cell_type": "markdown",
   "metadata": {},
   "source": [
    "#### Eating Out Frequency vs. Calorie Guessing"
   ]
  },
  {
   "cell_type": "code",
   "execution_count": 29,
   "metadata": {
    "scrolled": false
   },
   "outputs": [
    {
     "data": {
      "image/png": "[encoded data removed]",
      "text/plain": [
       "<Figure size 432x288 with 1 Axes>"
      ]
     },
     "metadata": {
      "needs_background": "light"
     },
     "output_type": "display_data"
    }
   ],
   "source": [
    "plotting(df2.groupby('eating_out').mean()['calories_chicken_prop'], 'Eating Out Habits vs. Calorie Guessing', 'Eating Out Habits', 'Average Correct Guess %', ['Chicken','Turkey'])\n",
    "plotting(df2.groupby('eating_out').mean()['calories_turkey_prop'],  'Eating Out Habits vs. Calorie Guessing', 'Eating Out Habits', 'Average Correct Guess %', ['Chicken','Turkey'])"
   ]
  },
  {
   "cell_type": "code",
   "execution_count": 30,
   "metadata": {
    "scrolled": true
   },
   "outputs": [
    {
     "name": "stdout",
     "output_type": "stream",
     "text": [
      "normality: (0.8731928467750549, 6.1867870826404214e-09)\n",
      "variance homogeneity: LeveneResult(statistic=0.923962768854422, pvalue=0.4524733092297064)\n"
     ]
    },
    {
     "data": {
      "text/html": [
       "<div>\n",
       "<style scoped>\n",
       "    .dataframe tbody tr th:only-of-type {\n",
       "        vertical-align: middle;\n",
       "    }\n",
       "\n",
       "    .dataframe tbody tr th {\n",
       "        vertical-align: top;\n",
       "    }\n",
       "\n",
       "    .dataframe thead th {\n",
       "        text-align: right;\n",
       "    }\n",
       "</style>\n",
       "<table border=\"1\" class=\"dataframe\">\n",
       "  <thead>\n",
       "    <tr style=\"text-align: right;\">\n",
       "      <th></th>\n",
       "      <th>df</th>\n",
       "      <th>sum_sq</th>\n",
       "      <th>mean_sq</th>\n",
       "      <th>F</th>\n",
       "      <th>PR(&gt;F)</th>\n",
       "    </tr>\n",
       "  </thead>\n",
       "  <tbody>\n",
       "    <tr>\n",
       "      <th>C(eating_out)</th>\n",
       "      <td>4.0</td>\n",
       "      <td>0.052747</td>\n",
       "      <td>0.013187</td>\n",
       "      <td>0.389223</td>\n",
       "      <td>0.816016</td>\n",
       "    </tr>\n",
       "    <tr>\n",
       "      <th>Residual</th>\n",
       "      <td>120.0</td>\n",
       "      <td>4.065554</td>\n",
       "      <td>0.033880</td>\n",
       "      <td>NaN</td>\n",
       "      <td>NaN</td>\n",
       "    </tr>\n",
       "  </tbody>\n",
       "</table>\n",
       "</div>"
      ],
      "text/plain": [
       "                  df    sum_sq   mean_sq         F    PR(>F)\n",
       "C(eating_out)    4.0  0.052747  0.013187  0.389223  0.816016\n",
       "Residual       120.0  4.065554  0.033880       NaN       NaN"
      ]
     },
     "execution_count": 30,
     "metadata": {},
     "output_type": "execute_result"
    }
   ],
   "source": [
    "results = ols('calories_chicken_prop ~ C(eating_out)', data=df2).fit()\n",
    "\n",
    "check_anova_assumptions(results,'eating_out')\n",
    "\n",
    "sm.stats.anova_lm(results)"
   ]
  },
  {
   "cell_type": "markdown",
   "metadata": {},
   "source": [
    "From the plot, and ANOVA we conclude that eating out habits also do not affect how well students can guess caloric content."
   ]
  },
  {
   "cell_type": "markdown",
   "metadata": {},
   "source": [
    "#### Exercise Frequency vs. Calorie Guessing"
   ]
  },
  {
   "cell_type": "code",
   "execution_count": 31,
   "metadata": {
    "scrolled": false
   },
   "outputs": [
    {
     "data": {
      "image/png": "[encoded data removed]",
      "text/plain": [
       "<Figure size 432x288 with 1 Axes>"
      ]
     },
     "metadata": {
      "needs_background": "light"
     },
     "output_type": "display_data"
    }
   ],
   "source": [
    "plotting(df2.groupby('exercise').mean()['calories_chicken_prop'], 'Exercise Habits vs. Calorie Guessing', 'Exercise Habits (1 = everyday, 3 = once a week)', 'Average Correct Guess %', ['Chicken','Turkey'])\n",
    "plotting(df2.groupby('exercise').mean()['calories_turkey_prop'],  'Exercise Habits vs. Calorie Guessing', 'Exercise Habits (1 = everyday, 3 = once a week)', 'Average Correct Guess %', ['Chicken','Turkey'])"
   ]
  },
  {
   "cell_type": "code",
   "execution_count": 32,
   "metadata": {},
   "outputs": [
    {
     "name": "stdout",
     "output_type": "stream",
     "text": [
      "normality: (0.8816098570823669, 5.767517663457511e-08)\n",
      "variance homogeneity: LeveneResult(statistic=1.043210087988179, pvalue=0.35581248703866136)\n"
     ]
    },
    {
     "data": {
      "text/html": [
       "<div>\n",
       "<style scoped>\n",
       "    .dataframe tbody tr th:only-of-type {\n",
       "        vertical-align: middle;\n",
       "    }\n",
       "\n",
       "    .dataframe tbody tr th {\n",
       "        vertical-align: top;\n",
       "    }\n",
       "\n",
       "    .dataframe thead th {\n",
       "        text-align: right;\n",
       "    }\n",
       "</style>\n",
       "<table border=\"1\" class=\"dataframe\">\n",
       "  <thead>\n",
       "    <tr style=\"text-align: right;\">\n",
       "      <th></th>\n",
       "      <th>df</th>\n",
       "      <th>sum_sq</th>\n",
       "      <th>mean_sq</th>\n",
       "      <th>F</th>\n",
       "      <th>PR(&gt;F)</th>\n",
       "    </tr>\n",
       "  </thead>\n",
       "  <tbody>\n",
       "    <tr>\n",
       "      <th>C(exercise)</th>\n",
       "      <td>2.0</td>\n",
       "      <td>0.155879</td>\n",
       "      <td>0.077940</td>\n",
       "      <td>2.318132</td>\n",
       "      <td>0.103293</td>\n",
       "    </tr>\n",
       "    <tr>\n",
       "      <th>Residual</th>\n",
       "      <td>109.0</td>\n",
       "      <td>3.664767</td>\n",
       "      <td>0.033622</td>\n",
       "      <td>NaN</td>\n",
       "      <td>NaN</td>\n",
       "    </tr>\n",
       "  </tbody>\n",
       "</table>\n",
       "</div>"
      ],
      "text/plain": [
       "                df    sum_sq   mean_sq         F    PR(>F)\n",
       "C(exercise)    2.0  0.155879  0.077940  2.318132  0.103293\n",
       "Residual     109.0  3.664767  0.033622       NaN       NaN"
      ]
     },
     "execution_count": 32,
     "metadata": {},
     "output_type": "execute_result"
    }
   ],
   "source": [
    "results = ols('calories_chicken_prop ~ C(exercise)', data=df2).fit()\n",
    "\n",
    "#normality\n",
    "print(\"normality:\",stats.shapiro(results.resid))\n",
    "    \n",
    "# homogenity of var\n",
    "print(\"variance homogeneity:\",stats.levene(df2['calories_chicken_prop'][df2['exercise'] == 1],\n",
    "             df2['calories_chicken_prop'][df2['exercise'] == 2],\n",
    "             df2['calories_chicken_prop'][df2['exercise'] == 3]))\n",
    "\n",
    "sm.stats.anova_lm(results)"
   ]
  },
  {
   "cell_type": "markdown",
   "metadata": {},
   "source": [
    "From this plot, we cannot conclude that students who exercise more are better at calorie guessing. The usual assumption would be that people who exercise more tend to track their calories more, and thus should be at an advantage when guessing calories for foods. However, this dataset does not include any samples where students report ZERO exercise during the week so we cannot make a thorough investigation. In this plot, all students exercise at least once a week."
   ]
  },
  {
   "cell_type": "markdown",
   "metadata": {},
   "source": [
    "#### Conclusion\n",
    "From all these plots, at first impression, we might conclude that students who are most conscious of their caloric intake are, on average, those with  higher income, the highest GPAs, have parents with advanced education, cook everyday, live away from home, eat out during the week, and exercise once a week. However, after completing a series of t-tests and ANOVA tests, actually all of these studied variables do not have statistically significant differences between their levels. It's important to note that even though the ANOVA tests failed the normality assumption ANOVA is fairly robust against this assumption, so still use the results from the tests.\n",
    "\n",
    "Thus, we cannot conclude that income, GPA, parental education, cooking habits, living situation, eating out habits, and exercise habits have significant effects on how well students guess caloric content."
   ]
  },
  {
   "cell_type": "markdown",
   "metadata": {},
   "source": [
    "## What types of students will choose unhealthy food options over healthy ones?\n",
    "Case studied: \n",
    "- Drink: Orange juice vs. Coke\n"
   ]
  },
  {
   "cell_type": "code",
   "execution_count": 51,
   "metadata": {},
   "outputs": [
    {
     "data": {
      "text/plain": [
       "Text(0.5, 0, 'Drink (1=OJ, 2=Coke)')"
      ]
     },
     "execution_count": 51,
     "metadata": {},
     "output_type": "execute_result"
    },
    {
     "data": {
      "image/png": "[encoded data removed]",
      "text/plain": [
       "<Figure size 432x288 with 1 Axes>"
      ]
     },
     "metadata": {
      "needs_background": "light"
     },
     "output_type": "display_data"
    }
   ],
   "source": [
    "# check for imbalances in coke vs oj\n",
    "df2['drink'].value_counts().plot(kind='bar')\n",
    "plt.title('Drink Choice Frequencies')\n",
    "plt.xlabel('Drink (1=OJ, 2=Coke)')"
   ]
  },
  {
   "cell_type": "code",
   "execution_count": 52,
   "metadata": {},
   "outputs": [],
   "source": [
    "# biserial correlation between drink choice and numeric variables\n",
    "# extract numeric variables from df, then get corr.\n",
    "numerics = ['int16', 'int32', 'int64', 'float16', 'float32', 'float64']\n",
    "df2.select_dtypes(include=numerics)\n",
    "\n",
    "corr_columns = df2[['GPA','income','employment','father_education', 'mother_education', 'grade_level', 'eating_out','cook', 'exercise','calories_chicken_prop','calories_turkey_prop','drink']]\n"
   ]
  },
  {
   "cell_type": "code",
   "execution_count": 53,
   "metadata": {},
   "outputs": [],
   "source": [
    "drink_correlations = pd.DataFrame([], columns=['Variable','Corr'])\n",
    "\n",
    "for name in corr_columns.columns.drop('drink'):\n",
    "    corr_df = corr_columns[[name, 'drink']].dropna()\n",
    "    corr = stats.pointbiserialr(corr_df[name], corr_df['drink'])[0]\n",
    "    df2 = pd.DataFrame([[name,corr]],columns=['Variable','Corr'])\n",
    "    drink_correlations = drink_correlations.append(df2)"
   ]
  },
  {
   "cell_type": "code",
   "execution_count": 54,
   "metadata": {},
   "outputs": [
    {
     "data": {
      "text/html": [
       "<div>\n",
       "<style scoped>\n",
       "    .dataframe tbody tr th:only-of-type {\n",
       "        vertical-align: middle;\n",
       "    }\n",
       "\n",
       "    .dataframe tbody tr th {\n",
       "        vertical-align: top;\n",
       "    }\n",
       "\n",
       "    .dataframe thead th {\n",
       "        text-align: right;\n",
       "    }\n",
       "</style>\n",
       "<table border=\"1\" class=\"dataframe\">\n",
       "  <thead>\n",
       "    <tr style=\"text-align: right;\">\n",
       "      <th></th>\n",
       "      <th>Variable</th>\n",
       "      <th>Corr</th>\n",
       "    </tr>\n",
       "  </thead>\n",
       "  <tbody>\n",
       "    <tr>\n",
       "      <th>0</th>\n",
       "      <td>income</td>\n",
       "      <td>0.270804</td>\n",
       "    </tr>\n",
       "    <tr>\n",
       "      <th>0</th>\n",
       "      <td>mother_education</td>\n",
       "      <td>0.209404</td>\n",
       "    </tr>\n",
       "    <tr>\n",
       "      <th>0</th>\n",
       "      <td>cook</td>\n",
       "      <td>0.121020</td>\n",
       "    </tr>\n",
       "    <tr>\n",
       "      <th>0</th>\n",
       "      <td>exercise</td>\n",
       "      <td>0.105012</td>\n",
       "    </tr>\n",
       "    <tr>\n",
       "      <th>0</th>\n",
       "      <td>employment</td>\n",
       "      <td>0.082715</td>\n",
       "    </tr>\n",
       "    <tr>\n",
       "      <th>0</th>\n",
       "      <td>calories_turkey_prop</td>\n",
       "      <td>0.072235</td>\n",
       "    </tr>\n",
       "    <tr>\n",
       "      <th>0</th>\n",
       "      <td>father_education</td>\n",
       "      <td>0.022818</td>\n",
       "    </tr>\n",
       "    <tr>\n",
       "      <th>0</th>\n",
       "      <td>eating_out</td>\n",
       "      <td>0.018787</td>\n",
       "    </tr>\n",
       "    <tr>\n",
       "      <th>0</th>\n",
       "      <td>grade_level</td>\n",
       "      <td>-0.024461</td>\n",
       "    </tr>\n",
       "    <tr>\n",
       "      <th>0</th>\n",
       "      <td>calories_chicken_prop</td>\n",
       "      <td>-0.032772</td>\n",
       "    </tr>\n",
       "    <tr>\n",
       "      <th>0</th>\n",
       "      <td>GPA</td>\n",
       "      <td>-0.064553</td>\n",
       "    </tr>\n",
       "  </tbody>\n",
       "</table>\n",
       "</div>"
      ],
      "text/plain": [
       "                Variable      Corr\n",
       "0                 income  0.270804\n",
       "0       mother_education  0.209404\n",
       "0                   cook  0.121020\n",
       "0               exercise  0.105012\n",
       "0             employment  0.082715\n",
       "0   calories_turkey_prop  0.072235\n",
       "0       father_education  0.022818\n",
       "0             eating_out  0.018787\n",
       "0            grade_level -0.024461\n",
       "0  calories_chicken_prop -0.032772\n",
       "0                    GPA -0.064553"
      ]
     },
     "execution_count": 54,
     "metadata": {},
     "output_type": "execute_result"
    }
   ],
   "source": [
    "drink_correlations.sort_values('Corr', ascending=False)"
   ]
  },
  {
   "cell_type": "markdown",
   "metadata": {},
   "source": [
    "From the biserial correlation, which measures the correlation between a binary and dichotomous variable, we conclude that income, mother's education, cooking habits, and exercise habits are the top most correlated variables to drink choices (oj vs. coke). To further investigate, we will make a few plots."
   ]
  },
  {
   "cell_type": "code",
   "execution_count": 55,
   "metadata": {},
   "outputs": [],
   "source": [
    "def drink_groupby_plot(variable, title, xlabel):\n",
    "    d = df2.groupby([variable,'drink']).count().unstack()['GPA']\n",
    "    d.columns=['orange_juice','coke']\n",
    "    d.plot.bar()\n",
    "    plt.title(title)\n",
    "    plt.xlabel(xlabel)"
   ]
  },
  {
   "cell_type": "code",
   "execution_count": 56,
   "metadata": {},
   "outputs": [],
   "source": [
    "#Initialize cleaned dataframe again.\n",
    "df2 = food[['GPA', 'Gender' , 'calories_chicken', 'turkey_calories', 'income', 'employment', 'father_education', 'mother_education', 'grade_level', 'eating_out', 'on_off_campus', 'weight', 'cook','cuisine', 'exercise', 'drink','breakfast', 'parents_cook', 'nutritional_check']]\n",
    "df2['calories_chicken_prop'] = df2['calories_chicken']/720\n",
    "df2['calories_turkey_prop'] = df2['turkey_calories']/690\n",
    "df2['GPA'] = df2['GPA'].str[:3]\n",
    "df2['GPA'].replace(['Per','Unk'], None, inplace=True)\n",
    "df2['GPA'].value_counts()\n",
    "df2['GPA'] = df2['GPA'].astype(float)"
   ]
  },
  {
   "cell_type": "code",
   "execution_count": 58,
   "metadata": {},
   "outputs": [
    {
     "data": {
      "image/png": "[encoded data removed]",
      "text/plain": [
       "<Figure size 432x288 with 1 Axes>"
      ]
     },
     "metadata": {
      "needs_background": "light"
     },
     "output_type": "display_data"
    }
   ],
   "source": [
    "#Plot counts for each drink choice by income.\n",
    "drink_groupby_plot('income', 'Income Bracket vs. Drink Choice Frequencies', 'Income Bracket (6 = highest)')"
   ]
  },
  {
   "cell_type": "code",
   "execution_count": 70,
   "metadata": {},
   "outputs": [
    {
     "data": {
      "image/png": "[encoded data removed]",
      "text/plain": [
       "<Figure size 432x288 with 1 Axes>"
      ]
     },
     "metadata": {
      "needs_background": "light"
     },
     "output_type": "display_data"
    }
   ],
   "source": [
    "#Extract proportions for choice soda from the respective income brackets and plot. \n",
    "Proportions = [h.get_height() for h in sns.barplot(x='income', y='drink', data=df2, estimator=lambda x: sum(x==2)/len(x),ci = None).patches]\n",
    "plt.title(\"Income Bracket vs % Choosing Soda\")\n",
    "plt.xlabel(\"Income Bracket (1.0=Lowest, 6.0=Highest)\")\n",
    "plt.ylabel(\"Proportion of Students Choosing Soda\")\n",
    "plt.ylim(0.0,1.0)\n",
    "plt.show()"
   ]
  },
  {
   "cell_type": "code",
   "execution_count": 66,
   "metadata": {
    "scrolled": true
   },
   "outputs": [
    {
     "data": {
      "text/html": [
       "<div>\n",
       "<style scoped>\n",
       "    .dataframe tbody tr th:only-of-type {\n",
       "        vertical-align: middle;\n",
       "    }\n",
       "\n",
       "    .dataframe tbody tr th {\n",
       "        vertical-align: top;\n",
       "    }\n",
       "\n",
       "    .dataframe thead th {\n",
       "        text-align: right;\n",
       "    }\n",
       "</style>\n",
       "<table border=\"1\" class=\"dataframe\">\n",
       "  <thead>\n",
       "    <tr style=\"text-align: right;\">\n",
       "      <th></th>\n",
       "      <th>df</th>\n",
       "      <th>sum_sq</th>\n",
       "      <th>mean_sq</th>\n",
       "      <th>F</th>\n",
       "      <th>PR(&gt;F)</th>\n",
       "    </tr>\n",
       "  </thead>\n",
       "  <tbody>\n",
       "    <tr>\n",
       "      <th>Incomes</th>\n",
       "      <td>1.0</td>\n",
       "      <td>0.217557</td>\n",
       "      <td>0.217557</td>\n",
       "      <td>15.875088</td>\n",
       "      <td>0.016342</td>\n",
       "    </tr>\n",
       "    <tr>\n",
       "      <th>Residual</th>\n",
       "      <td>4.0</td>\n",
       "      <td>0.054817</td>\n",
       "      <td>0.013704</td>\n",
       "      <td>NaN</td>\n",
       "      <td>NaN</td>\n",
       "    </tr>\n",
       "  </tbody>\n",
       "</table>\n",
       "</div>"
      ],
      "text/plain": [
       "           df    sum_sq   mean_sq          F    PR(>F)\n",
       "Incomes   1.0  0.217557  0.217557  15.875088  0.016342\n",
       "Residual  4.0  0.054817  0.013704        NaN       NaN"
      ]
     },
     "execution_count": 66,
     "metadata": {},
     "output_type": "execute_result"
    }
   ],
   "source": [
    "Incomes = [1,2,3,4,5,6]\n",
    "d = {'Incomes': Incomes, 'Proportions': Proportions}\n",
    "df3 = pd.DataFrame(data=d)\n",
    "results = ols('Proportions ~ Incomes',data = df3).fit()\n",
    "sm.stats.anova_lm(results)"
   ]
  },
  {
   "cell_type": "code",
   "execution_count": 94,
   "metadata": {},
   "outputs": [
    {
     "name": "stdout",
     "output_type": "stream",
     "text": [
      "Power_divergenceResult(statistic=51.30744418979714, pvalue=7.480956643104142e-10)\n"
     ]
    }
   ],
   "source": [
    "d = df2.groupby(['income','drink']).count().unstack()['GPA']\n",
    "print(stats.chisquare(d[1],d[2]))"
   ]
  },
  {
   "cell_type": "markdown",
   "metadata": {},
   "source": [
    "In this specific dataset, more students with higher income associate a 'drink' with soda (coke) over orange juice. Students with lower income associate drinks with orange juice over soda. Running a chi-square test indicates that the choice of drink is different depending on the income bracket of the student."
   ]
  },
  {
   "cell_type": "code",
   "execution_count": 49,
   "metadata": {},
   "outputs": [
    {
     "data": {
      "image/png": "[encoded data removed]",
      "text/plain": [
       "<Figure size 432x288 with 1 Axes>"
      ]
     },
     "metadata": {
      "needs_background": "light"
     },
     "output_type": "display_data"
    }
   ],
   "source": [
    "#Plot counts for each drink choice by education of mother.\n",
    "drink_groupby_plot('mother_education', 'Mother Education vs. Drink Choice Frequencies', 'mother education (5 = highest)')"
   ]
  },
  {
   "cell_type": "code",
   "execution_count": 95,
   "metadata": {
    "scrolled": true
   },
   "outputs": [
    {
     "data": {
      "image/png": "[encoded data removed]",
      "text/plain": [
       "<Figure size 432x288 with 1 Axes>"
      ]
     },
     "metadata": {
      "needs_background": "light"
     },
     "output_type": "display_data"
    }
   ],
   "source": [
    "#Extract proportions for choice soda for each level of education and plot.\n",
    "Proportions = [h.get_height() for h in sns.barplot(x='mother_education', y='drink', data=df2, estimator=lambda x: sum(x==2)/len(x),ci = None).patches]\n",
    "plt.title(\"Education Level of Mother vs % Choosing Soda\")\n",
    "plt.ylabel(\"Proportion of Students Choosing Soda\")\n",
    "plt.ylim(0.0,1.0)\n",
    "plt.show()"
   ]
  },
  {
   "cell_type": "code",
   "execution_count": 96,
   "metadata": {},
   "outputs": [
    {
     "data": {
      "text/html": [
       "<div>\n",
       "<style scoped>\n",
       "    .dataframe tbody tr th:only-of-type {\n",
       "        vertical-align: middle;\n",
       "    }\n",
       "\n",
       "    .dataframe tbody tr th {\n",
       "        vertical-align: top;\n",
       "    }\n",
       "\n",
       "    .dataframe thead th {\n",
       "        text-align: right;\n",
       "    }\n",
       "</style>\n",
       "<table border=\"1\" class=\"dataframe\">\n",
       "  <thead>\n",
       "    <tr style=\"text-align: right;\">\n",
       "      <th></th>\n",
       "      <th>df</th>\n",
       "      <th>sum_sq</th>\n",
       "      <th>mean_sq</th>\n",
       "      <th>F</th>\n",
       "      <th>PR(&gt;F)</th>\n",
       "    </tr>\n",
       "  </thead>\n",
       "  <tbody>\n",
       "    <tr>\n",
       "      <th>Mothers_Education</th>\n",
       "      <td>1.0</td>\n",
       "      <td>0.065933</td>\n",
       "      <td>0.065933</td>\n",
       "      <td>8.595085</td>\n",
       "      <td>0.060915</td>\n",
       "    </tr>\n",
       "    <tr>\n",
       "      <th>Residual</th>\n",
       "      <td>3.0</td>\n",
       "      <td>0.023013</td>\n",
       "      <td>0.007671</td>\n",
       "      <td>NaN</td>\n",
       "      <td>NaN</td>\n",
       "    </tr>\n",
       "  </tbody>\n",
       "</table>\n",
       "</div>"
      ],
      "text/plain": [
       "                    df    sum_sq   mean_sq         F    PR(>F)\n",
       "Mothers_Education  1.0  0.065933  0.065933  8.595085  0.060915\n",
       "Residual           3.0  0.023013  0.007671       NaN       NaN"
      ]
     },
     "execution_count": 96,
     "metadata": {},
     "output_type": "execute_result"
    }
   ],
   "source": [
    "Education = [1,2,3,4,5]\n",
    "d = {'Mothers_Education': Education, 'Proportions': Proportions}\n",
    "df3 = pd.DataFrame(data=d)\n",
    "results = ols('Proportions ~ Mothers_Education',data = df3).fit()\n",
    "sm.stats.anova_lm(results)"
   ]
  },
  {
   "cell_type": "code",
   "execution_count": 97,
   "metadata": {},
   "outputs": [
    {
     "name": "stdout",
     "output_type": "stream",
     "text": [
      "Power_divergenceResult(statistic=14.682750582750582, pvalue=0.005406533304259547)\n"
     ]
    }
   ],
   "source": [
    "d = df2.groupby(['mother_education','drink']).count().unstack()['GPA']\n",
    "print(stats.chisquare(d[1],d[2]))"
   ]
  },
  {
   "cell_type": "markdown",
   "metadata": {},
   "source": [
    "Similarly, in this dataset, more students whose mothers have higher education associate a 'drink' with soda (coke) over orange juice. More students whose mothers have lower education appear to associate drinks with orange juice. A chi-square test indicates that this association is significant across differing levels of 'mothers_education'."
   ]
  },
  {
   "cell_type": "code",
   "execution_count": 67,
   "metadata": {},
   "outputs": [
    {
     "data": {
      "image/png": "[encoded data removed]",
      "text/plain": [
       "<Figure size 432x288 with 1 Axes>"
      ]
     },
     "metadata": {
      "needs_background": "light"
     },
     "output_type": "display_data"
    }
   ],
   "source": [
    "#Plot counts for each drink choice by cooking habits.\n",
    "drink_groupby_plot('cook', 'Cooking Habits vs. Drink Choice Frequencies', 'Cooking (1 = everyday, 5=never)')"
   ]
  },
  {
   "cell_type": "code",
   "execution_count": 71,
   "metadata": {
    "scrolled": true
   },
   "outputs": [
    {
     "data": {
      "image/png": "[encoded data removed]",
      "text/plain": [
       "<Figure size 432x288 with 1 Axes>"
      ]
     },
     "metadata": {
      "needs_background": "light"
     },
     "output_type": "display_data"
    }
   ],
   "source": [
    "#Extract proportions for choice soda and plot against cooking habits.\n",
    "Proportions = [h.get_height() for h in sns.barplot(x='cook', y='drink', data=df2, estimator=lambda x: sum(x==2)/len(x),ci = None).patches]\n",
    "plt.title(\"Cooking Habits vs % Choosing Soda\") \n",
    "plt.xlabel(\"Cooking Habits (1 = Everyday, 5 = Never)\")\n",
    "plt.ylabel(\"Proportion of Students Choosing Soda\")\n",
    "plt.ylim(0.0,1.0)\n",
    "plt.show()"
   ]
  },
  {
   "cell_type": "code",
   "execution_count": 98,
   "metadata": {},
   "outputs": [
    {
     "data": {
      "text/html": [
       "<div>\n",
       "<style scoped>\n",
       "    .dataframe tbody tr th:only-of-type {\n",
       "        vertical-align: middle;\n",
       "    }\n",
       "\n",
       "    .dataframe tbody tr th {\n",
       "        vertical-align: top;\n",
       "    }\n",
       "\n",
       "    .dataframe thead th {\n",
       "        text-align: right;\n",
       "    }\n",
       "</style>\n",
       "<table border=\"1\" class=\"dataframe\">\n",
       "  <thead>\n",
       "    <tr style=\"text-align: right;\">\n",
       "      <th></th>\n",
       "      <th>df</th>\n",
       "      <th>sum_sq</th>\n",
       "      <th>mean_sq</th>\n",
       "      <th>F</th>\n",
       "      <th>PR(&gt;F)</th>\n",
       "    </tr>\n",
       "  </thead>\n",
       "  <tbody>\n",
       "    <tr>\n",
       "      <th>Cooking_Habits</th>\n",
       "      <td>1.0</td>\n",
       "      <td>0.065933</td>\n",
       "      <td>0.065933</td>\n",
       "      <td>8.595085</td>\n",
       "      <td>0.060915</td>\n",
       "    </tr>\n",
       "    <tr>\n",
       "      <th>Residual</th>\n",
       "      <td>3.0</td>\n",
       "      <td>0.023013</td>\n",
       "      <td>0.007671</td>\n",
       "      <td>NaN</td>\n",
       "      <td>NaN</td>\n",
       "    </tr>\n",
       "  </tbody>\n",
       "</table>\n",
       "</div>"
      ],
      "text/plain": [
       "                 df    sum_sq   mean_sq         F    PR(>F)\n",
       "Cooking_Habits  1.0  0.065933  0.065933  8.595085  0.060915\n",
       "Residual        3.0  0.023013  0.007671       NaN       NaN"
      ]
     },
     "execution_count": 98,
     "metadata": {},
     "output_type": "execute_result"
    }
   ],
   "source": [
    "Cook = [1,2,3,4,5]\n",
    "d = {'Cooking_Habits': Cook, 'Proportions': Proportions}\n",
    "df3 = pd.DataFrame(data=d)\n",
    "results = ols('Proportions ~ Cooking_Habits',data = df3).fit()\n",
    "sm.stats.anova_lm(results)"
   ]
  },
  {
   "cell_type": "code",
   "execution_count": 99,
   "metadata": {},
   "outputs": [
    {
     "name": "stdout",
     "output_type": "stream",
     "text": [
      "Power_divergenceResult(statistic=8.641547049441787, pvalue=0.07071095040626074)\n"
     ]
    }
   ],
   "source": [
    "d = df2.groupby(['cook','drink']).count().unstack()['GPA']\n",
    "print(stats.chisquare(d[1],d[2]))"
   ]
  },
  {
   "cell_type": "markdown",
   "metadata": {},
   "source": [
    "In general, it appears that students who cook more often are less likely to associate 'drink' with soda. The corresponding chi-square test indicates that cooking habits are not quite significant for determining the choice of drink."
   ]
  },
  {
   "cell_type": "code",
   "execution_count": 101,
   "metadata": {},
   "outputs": [
    {
     "data": {
      "image/png": "[encoded data removed]",
      "text/plain": [
       "<Figure size 432x288 with 1 Axes>"
      ]
     },
     "metadata": {
      "needs_background": "light"
     },
     "output_type": "display_data"
    }
   ],
   "source": [
    "#Plot counts for each drink choice with level of exercise per week.\n",
    "drink_groupby_plot('exercise', 'Exercise Habits vs. Drink Choice Frequencies', 'Exercise (1 = everyday, 3=once a week)')"
   ]
  },
  {
   "cell_type": "code",
   "execution_count": 102,
   "metadata": {},
   "outputs": [
    {
     "data": {
      "image/png": "[encoded data removed]",
      "text/plain": [
       "<Figure size 432x288 with 1 Axes>"
      ]
     },
     "metadata": {
      "needs_background": "light"
     },
     "output_type": "display_data"
    }
   ],
   "source": [
    "#Extract proportions for choice soda by level of exercise.\n",
    "Proportions = [h.get_height() for h in sns.barplot(x='exercise', y='drink', data=df2, estimator=lambda x: sum(x==2)/len(x),ci = None).patches]\n",
    "plt.title(\"Level of Exercise vs % Choosing Soda\") \n",
    "plt.xlabel(\"Exercise (1 = Everyday, 3 = once a week)\")\n",
    "plt.ylabel(\"Proportion of Students Choosing Soda\")\n",
    "plt.ylim(0.0,1.0)\n",
    "plt.show()"
   ]
  },
  {
   "cell_type": "code",
   "execution_count": 103,
   "metadata": {},
   "outputs": [
    {
     "data": {
      "text/html": [
       "<div>\n",
       "<style scoped>\n",
       "    .dataframe tbody tr th:only-of-type {\n",
       "        vertical-align: middle;\n",
       "    }\n",
       "\n",
       "    .dataframe tbody tr th {\n",
       "        vertical-align: top;\n",
       "    }\n",
       "\n",
       "    .dataframe thead th {\n",
       "        text-align: right;\n",
       "    }\n",
       "</style>\n",
       "<table border=\"1\" class=\"dataframe\">\n",
       "  <thead>\n",
       "    <tr style=\"text-align: right;\">\n",
       "      <th></th>\n",
       "      <th>df</th>\n",
       "      <th>sum_sq</th>\n",
       "      <th>mean_sq</th>\n",
       "      <th>F</th>\n",
       "      <th>PR(&gt;F)</th>\n",
       "    </tr>\n",
       "  </thead>\n",
       "  <tbody>\n",
       "    <tr>\n",
       "      <th>Level_of_Exercise</th>\n",
       "      <td>1.0</td>\n",
       "      <td>0.020000</td>\n",
       "      <td>0.020000</td>\n",
       "      <td>8.591716</td>\n",
       "      <td>0.209307</td>\n",
       "    </tr>\n",
       "    <tr>\n",
       "      <th>Residual</th>\n",
       "      <td>1.0</td>\n",
       "      <td>0.002328</td>\n",
       "      <td>0.002328</td>\n",
       "      <td>NaN</td>\n",
       "      <td>NaN</td>\n",
       "    </tr>\n",
       "  </tbody>\n",
       "</table>\n",
       "</div>"
      ],
      "text/plain": [
       "                    df    sum_sq   mean_sq         F    PR(>F)\n",
       "Level_of_Exercise  1.0  0.020000  0.020000  8.591716  0.209307\n",
       "Residual           1.0  0.002328  0.002328       NaN       NaN"
      ]
     },
     "execution_count": 103,
     "metadata": {},
     "output_type": "execute_result"
    }
   ],
   "source": [
    "Exercise = [1,2,3]\n",
    "d = {'Level_of_Exercise': Exercise, 'Proportions': Proportions}\n",
    "df3 = pd.DataFrame(data=d)\n",
    "results = ols('Proportions ~ Level_of_Exercise',data = df3).fit()\n",
    "sm.stats.anova_lm(results)"
   ]
  },
  {
   "cell_type": "code",
   "execution_count": 104,
   "metadata": {},
   "outputs": [
    {
     "name": "stdout",
     "output_type": "stream",
     "text": [
      "Power_divergenceResult(statistic=4.602037037037037, pvalue=0.10015678021943415)\n"
     ]
    }
   ],
   "source": [
    "d = df2.groupby(['exercise','drink']).count().unstack()['GPA']\n",
    "print(stats.chisquare(d[1],d[2]))"
   ]
  },
  {
   "cell_type": "markdown",
   "metadata": {},
   "source": [
    "From this plot, we might assume that people who do exercise tend to associate drinks with soda over orange juice. The chi-square test comparing both drink choices does not demonstrate strong significance for differing levels of exercise. Additionally, since this dataset does not include any samples from people who do not exercise, we cannot make any conclusions about the drink associations with people who do not exercise."
   ]
  },
  {
   "cell_type": "markdown",
   "metadata": {},
   "source": [
    "#### Gender vs. Drink Choice"
   ]
  },
  {
   "cell_type": "code",
   "execution_count": 105,
   "metadata": {
    "scrolled": true
   },
   "outputs": [
    {
     "data": {
      "image/png": "[encoded data removed]",
      "text/plain": [
       "<Figure size 432x288 with 1 Axes>"
      ]
     },
     "metadata": {
      "needs_background": "light"
     },
     "output_type": "display_data"
    }
   ],
   "source": [
    "drink_groupby_plot('Gender', 'Gender vs. Drink Choice Frequencies', 'Gender (1 = Female, 2 = Male)')"
   ]
  },
  {
   "cell_type": "code",
   "execution_count": 107,
   "metadata": {},
   "outputs": [
    {
     "name": "stdout",
     "output_type": "stream",
     "text": [
      "Power_divergenceResult(statistic=9.488392857142857, pvalue=0.0020677587027907516)\n"
     ]
    }
   ],
   "source": [
    "d = df2.groupby(['Gender','drink']).count().unstack()['GPA']\n",
    "print(stats.chisquare(d[1],d[2]))"
   ]
  },
  {
   "cell_type": "markdown",
   "metadata": {},
   "source": [
    "Interestingly, women are more likely to associate drinks with orange juice whereas men associate drinks with coke. Under the assumption that juice is healthier than coke, I will investigate whether female students also check nutritional facts more than male students."
   ]
  },
  {
   "cell_type": "code",
   "execution_count": 75,
   "metadata": {},
   "outputs": [],
   "source": [
    "gender_nutr = df2.groupby(['nutritional_check','Gender']).count().unstack()['GPA']\n",
    "gender_nutr.columns = ['Female','Male']\n",
    "sums = gender_nutr.sum(axis=1)"
   ]
  },
  {
   "cell_type": "code",
   "execution_count": 76,
   "metadata": {},
   "outputs": [],
   "source": [
    "gender_nutr['Female'] = gender_nutr['Female'] / sums\n",
    "gender_nutr['Male'] = gender_nutr['Male'] / sums"
   ]
  },
  {
   "cell_type": "code",
   "execution_count": 80,
   "metadata": {
    "scrolled": true
   },
   "outputs": [
    {
     "data": {
      "image/png": "[encoded data removed]",
      "text/plain": [
       "<Figure size 432x288 with 1 Axes>"
      ]
     },
     "metadata": {
      "needs_background": "light"
     },
     "output_type": "display_data"
    }
   ],
   "source": [
    "gender_nutr.plot.bar()\n",
    "plt.title('Gender vs. Nutritional Checks')\n",
    "plt.ylabel('Proportion of Gender to Total')\n",
    "plt.xlabel('nutritional_check (1=never, 5=always)')\n",
    "plt.show()"
   ]
  },
  {
   "cell_type": "code",
   "execution_count": 108,
   "metadata": {},
   "outputs": [
    {
     "name": "stdout",
     "output_type": "stream",
     "text": [
      "Power_divergenceResult(statistic=31.416483516483513, pvalue=2.517259767072417e-06)\n"
     ]
    }
   ],
   "source": [
    "d = df2.groupby(['nutritional_check','Gender']).count().unstack()['GPA']\n",
    "print(stats.chisquare(d[1],d[2]))"
   ]
  },
  {
   "cell_type": "markdown",
   "metadata": {},
   "source": [
    "From this plot, we can conclude that females are generally more 'health conscious,' meaning they check the nutrition facts on food much more frequently than men do. This could also be why females in this dataset associate drinks with juice over soda."
   ]
  },
  {
   "cell_type": "markdown",
   "metadata": {},
   "source": [
    "### Conclusion\n",
    "After exploring the relationships between various characteristics of students with their respective choice of drink, we found a few significant associations. Income appears to be the most significant factor in this analysis. Other factors might have more broad and less apparant effects with regards to drink choice as demonstrated by the plots, by they are not significant enough to draw any major conclusions. We should also avoid conflating the drink choice results with any other health-conscious decisions the student might be making; it should be noted that both drink choices, juice and soda, pack considerable amounts of sugar and therefore may not be a reliable litmus test of health-consciousness."
   ]
  }
 ],
 "metadata": {
  "kernelspec": {
   "display_name": "Python 3",
   "language": "python",
   "name": "python3"
  },
  "language_info": {
   "codemirror_mode": {
    "name": "ipython",
    "version": 3
   },
   "file_extension": ".py",
   "mimetype": "text/x-python",
   "name": "python",
   "nbconvert_exporter": "python",
   "pygments_lexer": "ipython3",
   "version": "3.7.3"
  }
 },
 "nbformat": 4,
 "nbformat_minor": 2
}
